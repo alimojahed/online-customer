{
  "nbformat": 4,
  "nbformat_minor": 0,
  "metadata": {
    "colab": {
      "provenance": []
    },
    "kernelspec": {
      "name": "python3",
      "display_name": "Python 3"
    },
    "language_info": {
      "name": "python"
    }
  },
  "cells": [
    {
      "cell_type": "markdown",
      "source": [
        "# Introduction to Data Mining\n",
        "## Final Project - Online Customers\n",
        "### Ali Mojahed 9812762554\n",
        "### Amirreza Samari 9822762186\n"
      ],
      "metadata": {
        "id": "blKcQZtalcg2"
      }
    },
    {
      "cell_type": "markdown",
      "source": [
        "# 1. Import Usual Libraries"
      ],
      "metadata": {
        "id": "wepKdsM1lyr-"
      }
    },
    {
      "cell_type": "code",
      "execution_count": 1,
      "metadata": {
        "id": "Az8u-k6hMMz_"
      },
      "outputs": [],
      "source": [
        "import pandas as pd\n",
        "import numpy as np\n",
        "from matplotlib import pyplot as plt\n"
      ]
    },
    {
      "cell_type": "markdown",
      "source": [
        "# 2. Download and Load Dataset"
      ],
      "metadata": {
        "id": "tf5p2GaYmFBh"
      }
    },
    {
      "cell_type": "code",
      "source": [
        "!wget -O dataset.csv https://www.dropbox.com/s/td8fv8pjw5cu78w/online%20store%20customer.csv?dl=0"
      ],
      "metadata": {
        "colab": {
          "base_uri": "https://localhost:8080/"
        },
        "id": "sxrUIzENmL5o",
        "outputId": "b3b6786b-a670-4e8a-86ba-264183b76910"
      },
      "execution_count": 6,
      "outputs": [
        {
          "output_type": "stream",
          "name": "stdout",
          "text": [
            "--2023-07-04 03:27:28--  https://www.dropbox.com/s/td8fv8pjw5cu78w/online%20store%20customer.csv?dl=0\n",
            "Resolving www.dropbox.com (www.dropbox.com)... 162.125.1.18, 2620:100:6016:18::a27d:112\n",
            "Connecting to www.dropbox.com (www.dropbox.com)|162.125.1.18|:443... connected.\n",
            "HTTP request sent, awaiting response... 302 Found\n",
            "Location: /s/raw/td8fv8pjw5cu78w/online%20store%20customer.csv [following]\n",
            "--2023-07-04 03:27:28--  https://www.dropbox.com/s/raw/td8fv8pjw5cu78w/online%20store%20customer.csv\n",
            "Reusing existing connection to www.dropbox.com:443.\n",
            "HTTP request sent, awaiting response... 302 Found\n",
            "Location: https://uca048b8efce2b85b68db33a300e.dl.dropboxusercontent.com/cd/0/inline/B_Pr8Uk5xhmFE7kIwkB8S6fq6MLnrcJSjpVfsdEGDXIpwg9XWHJ3CyWbYujdo7ZzorZEP7Vq-6OIVxSO-BJ2OWWlBZQuQ7ktrfPKgL2qcdvL2EjWH2-xQYIm71KnKAFuYc_BVJzvfQ09iut5mQpZHGCC-DZ2m1qN9UAiIoBX4Mk9ZA/file# [following]\n",
            "--2023-07-04 03:27:28--  https://uca048b8efce2b85b68db33a300e.dl.dropboxusercontent.com/cd/0/inline/B_Pr8Uk5xhmFE7kIwkB8S6fq6MLnrcJSjpVfsdEGDXIpwg9XWHJ3CyWbYujdo7ZzorZEP7Vq-6OIVxSO-BJ2OWWlBZQuQ7ktrfPKgL2qcdvL2EjWH2-xQYIm71KnKAFuYc_BVJzvfQ09iut5mQpZHGCC-DZ2m1qN9UAiIoBX4Mk9ZA/file\n",
            "Resolving uca048b8efce2b85b68db33a300e.dl.dropboxusercontent.com (uca048b8efce2b85b68db33a300e.dl.dropboxusercontent.com)... 162.125.7.15, 2620:100:6016:15::a27d:10f\n",
            "Connecting to uca048b8efce2b85b68db33a300e.dl.dropboxusercontent.com (uca048b8efce2b85b68db33a300e.dl.dropboxusercontent.com)|162.125.7.15|:443... connected.\n",
            "HTTP request sent, awaiting response... 200 OK\n",
            "Length: 191128 (187K) [text/plain]\n",
            "Saving to: ‘dataset.csv’\n",
            "\n",
            "dataset.csv         100%[===================>] 186.65K  --.-KB/s    in 0.06s   \n",
            "\n",
            "2023-07-04 03:27:29 (2.97 MB/s) - ‘dataset.csv’ saved [191128/191128]\n",
            "\n"
          ]
        }
      ]
    },
    {
      "cell_type": "code",
      "source": [
        "df = pd.read_csv(\"./dataset.csv\")\n",
        "df.head()"
      ],
      "metadata": {
        "colab": {
          "base_uri": "https://localhost:8080/",
          "height": 270
        },
        "id": "qBuuB4aUmxfY",
        "outputId": "ddc081a3-76c2-4dfa-d898-7bbb793486bd"
      },
      "execution_count": 7,
      "outputs": [
        {
          "output_type": "execute_result",
          "data": {
            "text/plain": [
              "  Transaction_date  Transaction_ID  Gender   Age Marital_status  State_names  \\\n",
              "0         1/1/2019          151200  Female  19.0         Single       Kansas   \n",
              "1         1/1/2019          151201    Male  49.0         Single     Illinois   \n",
              "2         1/1/2019          151202    Male  63.0        Married   New Mexico   \n",
              "3         1/1/2019          151203     NaN  18.0         Single     Virginia   \n",
              "4         1/1/2019          151204    Male  27.0         Single  Connecticut   \n",
              "\n",
              "    Segment Employees_status Payment_method  Referal  Amount_spent  \n",
              "0     Basic     Unemployment          Other      1.0       2051.36  \n",
              "1     Basic    self-employed           Card      0.0        544.04  \n",
              "2     Basic          workers         PayPal      1.0       1572.60  \n",
              "3  Platinum          workers           Card      1.0       1199.79  \n",
              "4     Basic    self-employed           Card      0.0           NaN  "
            ],
            "text/html": [
              "\n",
              "  <div id=\"df-24acdce6-10fc-47df-a7a5-a363b3c39946\">\n",
              "    <div class=\"colab-df-container\">\n",
              "      <div>\n",
              "<style scoped>\n",
              "    .dataframe tbody tr th:only-of-type {\n",
              "        vertical-align: middle;\n",
              "    }\n",
              "\n",
              "    .dataframe tbody tr th {\n",
              "        vertical-align: top;\n",
              "    }\n",
              "\n",
              "    .dataframe thead th {\n",
              "        text-align: right;\n",
              "    }\n",
              "</style>\n",
              "<table border=\"1\" class=\"dataframe\">\n",
              "  <thead>\n",
              "    <tr style=\"text-align: right;\">\n",
              "      <th></th>\n",
              "      <th>Transaction_date</th>\n",
              "      <th>Transaction_ID</th>\n",
              "      <th>Gender</th>\n",
              "      <th>Age</th>\n",
              "      <th>Marital_status</th>\n",
              "      <th>State_names</th>\n",
              "      <th>Segment</th>\n",
              "      <th>Employees_status</th>\n",
              "      <th>Payment_method</th>\n",
              "      <th>Referal</th>\n",
              "      <th>Amount_spent</th>\n",
              "    </tr>\n",
              "  </thead>\n",
              "  <tbody>\n",
              "    <tr>\n",
              "      <th>0</th>\n",
              "      <td>1/1/2019</td>\n",
              "      <td>151200</td>\n",
              "      <td>Female</td>\n",
              "      <td>19.0</td>\n",
              "      <td>Single</td>\n",
              "      <td>Kansas</td>\n",
              "      <td>Basic</td>\n",
              "      <td>Unemployment</td>\n",
              "      <td>Other</td>\n",
              "      <td>1.0</td>\n",
              "      <td>2051.36</td>\n",
              "    </tr>\n",
              "    <tr>\n",
              "      <th>1</th>\n",
              "      <td>1/1/2019</td>\n",
              "      <td>151201</td>\n",
              "      <td>Male</td>\n",
              "      <td>49.0</td>\n",
              "      <td>Single</td>\n",
              "      <td>Illinois</td>\n",
              "      <td>Basic</td>\n",
              "      <td>self-employed</td>\n",
              "      <td>Card</td>\n",
              "      <td>0.0</td>\n",
              "      <td>544.04</td>\n",
              "    </tr>\n",
              "    <tr>\n",
              "      <th>2</th>\n",
              "      <td>1/1/2019</td>\n",
              "      <td>151202</td>\n",
              "      <td>Male</td>\n",
              "      <td>63.0</td>\n",
              "      <td>Married</td>\n",
              "      <td>New Mexico</td>\n",
              "      <td>Basic</td>\n",
              "      <td>workers</td>\n",
              "      <td>PayPal</td>\n",
              "      <td>1.0</td>\n",
              "      <td>1572.60</td>\n",
              "    </tr>\n",
              "    <tr>\n",
              "      <th>3</th>\n",
              "      <td>1/1/2019</td>\n",
              "      <td>151203</td>\n",
              "      <td>NaN</td>\n",
              "      <td>18.0</td>\n",
              "      <td>Single</td>\n",
              "      <td>Virginia</td>\n",
              "      <td>Platinum</td>\n",
              "      <td>workers</td>\n",
              "      <td>Card</td>\n",
              "      <td>1.0</td>\n",
              "      <td>1199.79</td>\n",
              "    </tr>\n",
              "    <tr>\n",
              "      <th>4</th>\n",
              "      <td>1/1/2019</td>\n",
              "      <td>151204</td>\n",
              "      <td>Male</td>\n",
              "      <td>27.0</td>\n",
              "      <td>Single</td>\n",
              "      <td>Connecticut</td>\n",
              "      <td>Basic</td>\n",
              "      <td>self-employed</td>\n",
              "      <td>Card</td>\n",
              "      <td>0.0</td>\n",
              "      <td>NaN</td>\n",
              "    </tr>\n",
              "  </tbody>\n",
              "</table>\n",
              "</div>\n",
              "      <button class=\"colab-df-convert\" onclick=\"convertToInteractive('df-24acdce6-10fc-47df-a7a5-a363b3c39946')\"\n",
              "              title=\"Convert this dataframe to an interactive table.\"\n",
              "              style=\"display:none;\">\n",
              "        \n",
              "  <svg xmlns=\"http://www.w3.org/2000/svg\" height=\"24px\"viewBox=\"0 0 24 24\"\n",
              "       width=\"24px\">\n",
              "    <path d=\"M0 0h24v24H0V0z\" fill=\"none\"/>\n",
              "    <path d=\"M18.56 5.44l.94 2.06.94-2.06 2.06-.94-2.06-.94-.94-2.06-.94 2.06-2.06.94zm-11 1L8.5 8.5l.94-2.06 2.06-.94-2.06-.94L8.5 2.5l-.94 2.06-2.06.94zm10 10l.94 2.06.94-2.06 2.06-.94-2.06-.94-.94-2.06-.94 2.06-2.06.94z\"/><path d=\"M17.41 7.96l-1.37-1.37c-.4-.4-.92-.59-1.43-.59-.52 0-1.04.2-1.43.59L10.3 9.45l-7.72 7.72c-.78.78-.78 2.05 0 2.83L4 21.41c.39.39.9.59 1.41.59.51 0 1.02-.2 1.41-.59l7.78-7.78 2.81-2.81c.8-.78.8-2.07 0-2.86zM5.41 20L4 18.59l7.72-7.72 1.47 1.35L5.41 20z\"/>\n",
              "  </svg>\n",
              "      </button>\n",
              "      \n",
              "  <style>\n",
              "    .colab-df-container {\n",
              "      display:flex;\n",
              "      flex-wrap:wrap;\n",
              "      gap: 12px;\n",
              "    }\n",
              "\n",
              "    .colab-df-convert {\n",
              "      background-color: #E8F0FE;\n",
              "      border: none;\n",
              "      border-radius: 50%;\n",
              "      cursor: pointer;\n",
              "      display: none;\n",
              "      fill: #1967D2;\n",
              "      height: 32px;\n",
              "      padding: 0 0 0 0;\n",
              "      width: 32px;\n",
              "    }\n",
              "\n",
              "    .colab-df-convert:hover {\n",
              "      background-color: #E2EBFA;\n",
              "      box-shadow: 0px 1px 2px rgba(60, 64, 67, 0.3), 0px 1px 3px 1px rgba(60, 64, 67, 0.15);\n",
              "      fill: #174EA6;\n",
              "    }\n",
              "\n",
              "    [theme=dark] .colab-df-convert {\n",
              "      background-color: #3B4455;\n",
              "      fill: #D2E3FC;\n",
              "    }\n",
              "\n",
              "    [theme=dark] .colab-df-convert:hover {\n",
              "      background-color: #434B5C;\n",
              "      box-shadow: 0px 1px 3px 1px rgba(0, 0, 0, 0.15);\n",
              "      filter: drop-shadow(0px 1px 2px rgba(0, 0, 0, 0.3));\n",
              "      fill: #FFFFFF;\n",
              "    }\n",
              "  </style>\n",
              "\n",
              "      <script>\n",
              "        const buttonEl =\n",
              "          document.querySelector('#df-24acdce6-10fc-47df-a7a5-a363b3c39946 button.colab-df-convert');\n",
              "        buttonEl.style.display =\n",
              "          google.colab.kernel.accessAllowed ? 'block' : 'none';\n",
              "\n",
              "        async function convertToInteractive(key) {\n",
              "          const element = document.querySelector('#df-24acdce6-10fc-47df-a7a5-a363b3c39946');\n",
              "          const dataTable =\n",
              "            await google.colab.kernel.invokeFunction('convertToInteractive',\n",
              "                                                     [key], {});\n",
              "          if (!dataTable) return;\n",
              "\n",
              "          const docLinkHtml = 'Like what you see? Visit the ' +\n",
              "            '<a target=\"_blank\" href=https://colab.research.google.com/notebooks/data_table.ipynb>data table notebook</a>'\n",
              "            + ' to learn more about interactive tables.';\n",
              "          element.innerHTML = '';\n",
              "          dataTable['output_type'] = 'display_data';\n",
              "          await google.colab.output.renderOutput(dataTable, element);\n",
              "          const docLink = document.createElement('div');\n",
              "          docLink.innerHTML = docLinkHtml;\n",
              "          element.appendChild(docLink);\n",
              "        }\n",
              "      </script>\n",
              "    </div>\n",
              "  </div>\n",
              "  "
            ]
          },
          "metadata": {},
          "execution_count": 7
        }
      ]
    },
    {
      "cell_type": "markdown",
      "source": [
        "# 3. Preprocessing"
      ],
      "metadata": {
        "id": "314KVPX3nO2b"
      }
    },
    {
      "cell_type": "markdown",
      "source": [
        "## 3.1 Handling Missing Values\n",
        "\n",
        "for numerical columns like `Age` and `Amount_spent` we use `mean` of values and for other columns we use `most frequent` value[link text]"
      ],
      "metadata": {
        "id": "fcVsNrPwnSdv"
      }
    },
    {
      "cell_type": "code",
      "source": [
        "df['Age'].fillna(df['Age'].mean(), inplace=True)\n",
        "df['Age'] = df['Age'].astype(int)\n",
        "df['Amount_spent'].fillna(df['Amount_spent'].mean(), inplace=True)\n",
        "\n",
        "for column in df.columns:\n",
        "    if column not in ['Age', 'Amount_spent']:\n",
        "        most_frequent_value = df[column].mode()[0]\n",
        "        df[column].fillna(most_frequent_value, inplace=True)\n",
        "\n"
      ],
      "metadata": {
        "id": "4IUrl5x5oDoN"
      },
      "execution_count": 8,
      "outputs": []
    },
    {
      "cell_type": "code",
      "source": [
        "df.head()"
      ],
      "metadata": {
        "colab": {
          "base_uri": "https://localhost:8080/",
          "height": 270
        },
        "id": "51aIOUZ8rFXo",
        "outputId": "29af0b59-d62e-4d2e-9d84-f22ee03134fa"
      },
      "execution_count": 9,
      "outputs": [
        {
          "output_type": "execute_result",
          "data": {
            "text/plain": [
              "  Transaction_date  Transaction_ID  Gender  Age Marital_status  State_names  \\\n",
              "0         1/1/2019          151200  Female   19         Single       Kansas   \n",
              "1         1/1/2019          151201    Male   49         Single     Illinois   \n",
              "2         1/1/2019          151202    Male   63        Married   New Mexico   \n",
              "3         1/1/2019          151203  Female   18         Single     Virginia   \n",
              "4         1/1/2019          151204    Male   27         Single  Connecticut   \n",
              "\n",
              "    Segment Employees_status Payment_method  Referal  Amount_spent  \n",
              "0     Basic     Unemployment          Other      1.0   2051.360000  \n",
              "1     Basic    self-employed           Card      0.0    544.040000  \n",
              "2     Basic          workers         PayPal      1.0   1572.600000  \n",
              "3  Platinum          workers           Card      1.0   1199.790000  \n",
              "4     Basic    self-employed           Card      0.0   1418.422577  "
            ],
            "text/html": [
              "\n",
              "  <div id=\"df-05721826-6b65-4ba2-989b-e4d1b7a9d9ba\">\n",
              "    <div class=\"colab-df-container\">\n",
              "      <div>\n",
              "<style scoped>\n",
              "    .dataframe tbody tr th:only-of-type {\n",
              "        vertical-align: middle;\n",
              "    }\n",
              "\n",
              "    .dataframe tbody tr th {\n",
              "        vertical-align: top;\n",
              "    }\n",
              "\n",
              "    .dataframe thead th {\n",
              "        text-align: right;\n",
              "    }\n",
              "</style>\n",
              "<table border=\"1\" class=\"dataframe\">\n",
              "  <thead>\n",
              "    <tr style=\"text-align: right;\">\n",
              "      <th></th>\n",
              "      <th>Transaction_date</th>\n",
              "      <th>Transaction_ID</th>\n",
              "      <th>Gender</th>\n",
              "      <th>Age</th>\n",
              "      <th>Marital_status</th>\n",
              "      <th>State_names</th>\n",
              "      <th>Segment</th>\n",
              "      <th>Employees_status</th>\n",
              "      <th>Payment_method</th>\n",
              "      <th>Referal</th>\n",
              "      <th>Amount_spent</th>\n",
              "    </tr>\n",
              "  </thead>\n",
              "  <tbody>\n",
              "    <tr>\n",
              "      <th>0</th>\n",
              "      <td>1/1/2019</td>\n",
              "      <td>151200</td>\n",
              "      <td>Female</td>\n",
              "      <td>19</td>\n",
              "      <td>Single</td>\n",
              "      <td>Kansas</td>\n",
              "      <td>Basic</td>\n",
              "      <td>Unemployment</td>\n",
              "      <td>Other</td>\n",
              "      <td>1.0</td>\n",
              "      <td>2051.360000</td>\n",
              "    </tr>\n",
              "    <tr>\n",
              "      <th>1</th>\n",
              "      <td>1/1/2019</td>\n",
              "      <td>151201</td>\n",
              "      <td>Male</td>\n",
              "      <td>49</td>\n",
              "      <td>Single</td>\n",
              "      <td>Illinois</td>\n",
              "      <td>Basic</td>\n",
              "      <td>self-employed</td>\n",
              "      <td>Card</td>\n",
              "      <td>0.0</td>\n",
              "      <td>544.040000</td>\n",
              "    </tr>\n",
              "    <tr>\n",
              "      <th>2</th>\n",
              "      <td>1/1/2019</td>\n",
              "      <td>151202</td>\n",
              "      <td>Male</td>\n",
              "      <td>63</td>\n",
              "      <td>Married</td>\n",
              "      <td>New Mexico</td>\n",
              "      <td>Basic</td>\n",
              "      <td>workers</td>\n",
              "      <td>PayPal</td>\n",
              "      <td>1.0</td>\n",
              "      <td>1572.600000</td>\n",
              "    </tr>\n",
              "    <tr>\n",
              "      <th>3</th>\n",
              "      <td>1/1/2019</td>\n",
              "      <td>151203</td>\n",
              "      <td>Female</td>\n",
              "      <td>18</td>\n",
              "      <td>Single</td>\n",
              "      <td>Virginia</td>\n",
              "      <td>Platinum</td>\n",
              "      <td>workers</td>\n",
              "      <td>Card</td>\n",
              "      <td>1.0</td>\n",
              "      <td>1199.790000</td>\n",
              "    </tr>\n",
              "    <tr>\n",
              "      <th>4</th>\n",
              "      <td>1/1/2019</td>\n",
              "      <td>151204</td>\n",
              "      <td>Male</td>\n",
              "      <td>27</td>\n",
              "      <td>Single</td>\n",
              "      <td>Connecticut</td>\n",
              "      <td>Basic</td>\n",
              "      <td>self-employed</td>\n",
              "      <td>Card</td>\n",
              "      <td>0.0</td>\n",
              "      <td>1418.422577</td>\n",
              "    </tr>\n",
              "  </tbody>\n",
              "</table>\n",
              "</div>\n",
              "      <button class=\"colab-df-convert\" onclick=\"convertToInteractive('df-05721826-6b65-4ba2-989b-e4d1b7a9d9ba')\"\n",
              "              title=\"Convert this dataframe to an interactive table.\"\n",
              "              style=\"display:none;\">\n",
              "        \n",
              "  <svg xmlns=\"http://www.w3.org/2000/svg\" height=\"24px\"viewBox=\"0 0 24 24\"\n",
              "       width=\"24px\">\n",
              "    <path d=\"M0 0h24v24H0V0z\" fill=\"none\"/>\n",
              "    <path d=\"M18.56 5.44l.94 2.06.94-2.06 2.06-.94-2.06-.94-.94-2.06-.94 2.06-2.06.94zm-11 1L8.5 8.5l.94-2.06 2.06-.94-2.06-.94L8.5 2.5l-.94 2.06-2.06.94zm10 10l.94 2.06.94-2.06 2.06-.94-2.06-.94-.94-2.06-.94 2.06-2.06.94z\"/><path d=\"M17.41 7.96l-1.37-1.37c-.4-.4-.92-.59-1.43-.59-.52 0-1.04.2-1.43.59L10.3 9.45l-7.72 7.72c-.78.78-.78 2.05 0 2.83L4 21.41c.39.39.9.59 1.41.59.51 0 1.02-.2 1.41-.59l7.78-7.78 2.81-2.81c.8-.78.8-2.07 0-2.86zM5.41 20L4 18.59l7.72-7.72 1.47 1.35L5.41 20z\"/>\n",
              "  </svg>\n",
              "      </button>\n",
              "      \n",
              "  <style>\n",
              "    .colab-df-container {\n",
              "      display:flex;\n",
              "      flex-wrap:wrap;\n",
              "      gap: 12px;\n",
              "    }\n",
              "\n",
              "    .colab-df-convert {\n",
              "      background-color: #E8F0FE;\n",
              "      border: none;\n",
              "      border-radius: 50%;\n",
              "      cursor: pointer;\n",
              "      display: none;\n",
              "      fill: #1967D2;\n",
              "      height: 32px;\n",
              "      padding: 0 0 0 0;\n",
              "      width: 32px;\n",
              "    }\n",
              "\n",
              "    .colab-df-convert:hover {\n",
              "      background-color: #E2EBFA;\n",
              "      box-shadow: 0px 1px 2px rgba(60, 64, 67, 0.3), 0px 1px 3px 1px rgba(60, 64, 67, 0.15);\n",
              "      fill: #174EA6;\n",
              "    }\n",
              "\n",
              "    [theme=dark] .colab-df-convert {\n",
              "      background-color: #3B4455;\n",
              "      fill: #D2E3FC;\n",
              "    }\n",
              "\n",
              "    [theme=dark] .colab-df-convert:hover {\n",
              "      background-color: #434B5C;\n",
              "      box-shadow: 0px 1px 3px 1px rgba(0, 0, 0, 0.15);\n",
              "      filter: drop-shadow(0px 1px 2px rgba(0, 0, 0, 0.3));\n",
              "      fill: #FFFFFF;\n",
              "    }\n",
              "  </style>\n",
              "\n",
              "      <script>\n",
              "        const buttonEl =\n",
              "          document.querySelector('#df-05721826-6b65-4ba2-989b-e4d1b7a9d9ba button.colab-df-convert');\n",
              "        buttonEl.style.display =\n",
              "          google.colab.kernel.accessAllowed ? 'block' : 'none';\n",
              "\n",
              "        async function convertToInteractive(key) {\n",
              "          const element = document.querySelector('#df-05721826-6b65-4ba2-989b-e4d1b7a9d9ba');\n",
              "          const dataTable =\n",
              "            await google.colab.kernel.invokeFunction('convertToInteractive',\n",
              "                                                     [key], {});\n",
              "          if (!dataTable) return;\n",
              "\n",
              "          const docLinkHtml = 'Like what you see? Visit the ' +\n",
              "            '<a target=\"_blank\" href=https://colab.research.google.com/notebooks/data_table.ipynb>data table notebook</a>'\n",
              "            + ' to learn more about interactive tables.';\n",
              "          element.innerHTML = '';\n",
              "          dataTable['output_type'] = 'display_data';\n",
              "          await google.colab.output.renderOutput(dataTable, element);\n",
              "          const docLink = document.createElement('div');\n",
              "          docLink.innerHTML = docLinkHtml;\n",
              "          element.appendChild(docLink);\n",
              "        }\n",
              "      </script>\n",
              "    </div>\n",
              "  </div>\n",
              "  "
            ]
          },
          "metadata": {},
          "execution_count": 9
        }
      ]
    },
    {
      "cell_type": "markdown",
      "source": [
        "## 3.2 Removing Outlier values"
      ],
      "metadata": {
        "id": "zo_Q6KlTrKj_"
      }
    },
    {
      "cell_type": "markdown",
      "source": [
        "### 3.2.1 Using IQR Boundaries\n",
        "to do so we define a range as below for `Amount_spent` and remove values outside of this boundary\n",
        "\n",
        "```\n",
        "upper = Q3 + 1.5*IQR\n",
        "\n",
        "lower = Q1 - 1.5*IQR\n",
        "```\n",
        "\n",
        "but with this approach we can not find any outlier"
      ],
      "metadata": {
        "id": "KHHjtxGYtHVn"
      }
    },
    {
      "cell_type": "code",
      "source": [
        "old_df_shape = df.shape\n",
        "\n",
        "Q1 = df['Amount_spent'].quantile(0.25)\n",
        "Q3 = df['Amount_spent'].quantile(0.75)\n",
        "IQR = Q3 - Q1\n",
        "lower = Q1 - 1.5*IQR\n",
        "upper = Q3 + 1.5*IQR\n",
        "\n",
        "upper_array = np.where(df['Amount_spent']>=upper)[0]\n",
        "lower_array = np.where(df['Amount_spent']<=lower)[0]\n",
        "\n",
        "df.drop(index=upper_array, inplace=True)\n",
        "df.drop(index=lower_array, inplace=True)\n",
        "\n",
        "new_df_shape = df.shape\n",
        "print(f\"old shape {old_df_shape}, new shape {new_df_shape}\")"
      ],
      "metadata": {
        "colab": {
          "base_uri": "https://localhost:8080/"
        },
        "id": "IK8Ss_9Tr3y0",
        "outputId": "a04c6b89-3b81-49a5-e11d-bc727ebe9ef9"
      },
      "execution_count": 10,
      "outputs": [
        {
          "output_type": "stream",
          "name": "stdout",
          "text": [
            "old shape (2512, 11), new shape (2512, 11)\n"
          ]
        }
      ]
    },
    {
      "cell_type": "markdown",
      "source": [],
      "metadata": {
        "id": "HBXBJAIGtDDl"
      }
    },
    {
      "cell_type": "markdown",
      "source": [
        "### 3.2.2 Using Z-Score\n",
        "\n",
        "```\n",
        "Zscore = (data_point -mean) / std. deviation\n",
        "\n",
        "```\n",
        "\n",
        "but with a very low threshold"
      ],
      "metadata": {
        "id": "_a46nQ-1tO7f"
      }
    },
    {
      "cell_type": "code",
      "source": [
        "from scipy import stats\n",
        "z = np.abs(stats.zscore(df['Amount_spent']))\n",
        "z_score_outliers = np.where(z > 1.8)[0]\n",
        "df.drop(index=z_score_outliers, inplace=True)\n",
        "df.shape"
      ],
      "metadata": {
        "colab": {
          "base_uri": "https://localhost:8080/"
        },
        "id": "ffQfuOivtXGs",
        "outputId": "e3e44589-42a1-4e5d-968a-725ff08aa109"
      },
      "execution_count": 11,
      "outputs": [
        {
          "output_type": "execute_result",
          "data": {
            "text/plain": [
              "(2440, 11)"
            ]
          },
          "metadata": {},
          "execution_count": 11
        }
      ]
    },
    {
      "cell_type": "markdown",
      "source": [
        "## 3.3 Convert Categorical Data to One-Hot Encoding"
      ],
      "metadata": {
        "id": "zzlABnU5vsLd"
      }
    },
    {
      "cell_type": "code",
      "source": [
        "categorical_cols = ['Gender', 'Marital_status', 'Segment', 'Employees_status', 'Payment_method']\n",
        "df_encoded = pd.get_dummies(df, columns=categorical_cols)\n",
        "df = pd.concat([df, df_encoded], axis=1)\n"
      ],
      "metadata": {
        "id": "MaH2tjoLvy78"
      },
      "execution_count": 12,
      "outputs": []
    },
    {
      "cell_type": "code",
      "source": [
        "df.head()"
      ],
      "metadata": {
        "colab": {
          "base_uri": "https://localhost:8080/",
          "height": 317
        },
        "id": "Mtu8kZzQv-dw",
        "outputId": "b2f24a1c-8048-47c4-ac08-ddd4ed6951f5"
      },
      "execution_count": 13,
      "outputs": [
        {
          "output_type": "execute_result",
          "data": {
            "text/plain": [
              "  Transaction_date  Transaction_ID  Gender  Age Marital_status  State_names  \\\n",
              "0         1/1/2019          151200  Female   19         Single       Kansas   \n",
              "1         1/1/2019          151201    Male   49         Single     Illinois   \n",
              "2         1/1/2019          151202    Male   63        Married   New Mexico   \n",
              "3         1/1/2019          151203  Female   18         Single     Virginia   \n",
              "4         1/1/2019          151204    Male   27         Single  Connecticut   \n",
              "\n",
              "    Segment Employees_status Payment_method  Referal  ...  Segment_Missing  \\\n",
              "0     Basic     Unemployment          Other      1.0  ...                0   \n",
              "1     Basic    self-employed           Card      0.0  ...                0   \n",
              "2     Basic          workers         PayPal      1.0  ...                0   \n",
              "3  Platinum          workers           Card      1.0  ...                0   \n",
              "4     Basic    self-employed           Card      0.0  ...                0   \n",
              "\n",
              "  Segment_Platinum  Segment_Silver  Employees_status_Employees  \\\n",
              "0                0               0                           0   \n",
              "1                0               0                           0   \n",
              "2                0               0                           0   \n",
              "3                1               0                           0   \n",
              "4                0               0                           0   \n",
              "\n",
              "  Employees_status_Unemployment  Employees_status_self-employed  \\\n",
              "0                             1                               0   \n",
              "1                             0                               1   \n",
              "2                             0                               0   \n",
              "3                             0                               0   \n",
              "4                             0                               1   \n",
              "\n",
              "   Employees_status_workers  Payment_method_Card  Payment_method_Other  \\\n",
              "0                         0                    0                     1   \n",
              "1                         0                    1                     0   \n",
              "2                         1                    0                     0   \n",
              "3                         1                    1                     0   \n",
              "4                         0                    1                     0   \n",
              "\n",
              "   Payment_method_PayPal  \n",
              "0                      0  \n",
              "1                      0  \n",
              "2                      1  \n",
              "3                      0  \n",
              "4                      0  \n",
              "\n",
              "[5 rows x 33 columns]"
            ],
            "text/html": [
              "\n",
              "  <div id=\"df-cf72739d-39cd-484f-badf-1c3499af7578\">\n",
              "    <div class=\"colab-df-container\">\n",
              "      <div>\n",
              "<style scoped>\n",
              "    .dataframe tbody tr th:only-of-type {\n",
              "        vertical-align: middle;\n",
              "    }\n",
              "\n",
              "    .dataframe tbody tr th {\n",
              "        vertical-align: top;\n",
              "    }\n",
              "\n",
              "    .dataframe thead th {\n",
              "        text-align: right;\n",
              "    }\n",
              "</style>\n",
              "<table border=\"1\" class=\"dataframe\">\n",
              "  <thead>\n",
              "    <tr style=\"text-align: right;\">\n",
              "      <th></th>\n",
              "      <th>Transaction_date</th>\n",
              "      <th>Transaction_ID</th>\n",
              "      <th>Gender</th>\n",
              "      <th>Age</th>\n",
              "      <th>Marital_status</th>\n",
              "      <th>State_names</th>\n",
              "      <th>Segment</th>\n",
              "      <th>Employees_status</th>\n",
              "      <th>Payment_method</th>\n",
              "      <th>Referal</th>\n",
              "      <th>...</th>\n",
              "      <th>Segment_Missing</th>\n",
              "      <th>Segment_Platinum</th>\n",
              "      <th>Segment_Silver</th>\n",
              "      <th>Employees_status_Employees</th>\n",
              "      <th>Employees_status_Unemployment</th>\n",
              "      <th>Employees_status_self-employed</th>\n",
              "      <th>Employees_status_workers</th>\n",
              "      <th>Payment_method_Card</th>\n",
              "      <th>Payment_method_Other</th>\n",
              "      <th>Payment_method_PayPal</th>\n",
              "    </tr>\n",
              "  </thead>\n",
              "  <tbody>\n",
              "    <tr>\n",
              "      <th>0</th>\n",
              "      <td>1/1/2019</td>\n",
              "      <td>151200</td>\n",
              "      <td>Female</td>\n",
              "      <td>19</td>\n",
              "      <td>Single</td>\n",
              "      <td>Kansas</td>\n",
              "      <td>Basic</td>\n",
              "      <td>Unemployment</td>\n",
              "      <td>Other</td>\n",
              "      <td>1.0</td>\n",
              "      <td>...</td>\n",
              "      <td>0</td>\n",
              "      <td>0</td>\n",
              "      <td>0</td>\n",
              "      <td>0</td>\n",
              "      <td>1</td>\n",
              "      <td>0</td>\n",
              "      <td>0</td>\n",
              "      <td>0</td>\n",
              "      <td>1</td>\n",
              "      <td>0</td>\n",
              "    </tr>\n",
              "    <tr>\n",
              "      <th>1</th>\n",
              "      <td>1/1/2019</td>\n",
              "      <td>151201</td>\n",
              "      <td>Male</td>\n",
              "      <td>49</td>\n",
              "      <td>Single</td>\n",
              "      <td>Illinois</td>\n",
              "      <td>Basic</td>\n",
              "      <td>self-employed</td>\n",
              "      <td>Card</td>\n",
              "      <td>0.0</td>\n",
              "      <td>...</td>\n",
              "      <td>0</td>\n",
              "      <td>0</td>\n",
              "      <td>0</td>\n",
              "      <td>0</td>\n",
              "      <td>0</td>\n",
              "      <td>1</td>\n",
              "      <td>0</td>\n",
              "      <td>1</td>\n",
              "      <td>0</td>\n",
              "      <td>0</td>\n",
              "    </tr>\n",
              "    <tr>\n",
              "      <th>2</th>\n",
              "      <td>1/1/2019</td>\n",
              "      <td>151202</td>\n",
              "      <td>Male</td>\n",
              "      <td>63</td>\n",
              "      <td>Married</td>\n",
              "      <td>New Mexico</td>\n",
              "      <td>Basic</td>\n",
              "      <td>workers</td>\n",
              "      <td>PayPal</td>\n",
              "      <td>1.0</td>\n",
              "      <td>...</td>\n",
              "      <td>0</td>\n",
              "      <td>0</td>\n",
              "      <td>0</td>\n",
              "      <td>0</td>\n",
              "      <td>0</td>\n",
              "      <td>0</td>\n",
              "      <td>1</td>\n",
              "      <td>0</td>\n",
              "      <td>0</td>\n",
              "      <td>1</td>\n",
              "    </tr>\n",
              "    <tr>\n",
              "      <th>3</th>\n",
              "      <td>1/1/2019</td>\n",
              "      <td>151203</td>\n",
              "      <td>Female</td>\n",
              "      <td>18</td>\n",
              "      <td>Single</td>\n",
              "      <td>Virginia</td>\n",
              "      <td>Platinum</td>\n",
              "      <td>workers</td>\n",
              "      <td>Card</td>\n",
              "      <td>1.0</td>\n",
              "      <td>...</td>\n",
              "      <td>0</td>\n",
              "      <td>1</td>\n",
              "      <td>0</td>\n",
              "      <td>0</td>\n",
              "      <td>0</td>\n",
              "      <td>0</td>\n",
              "      <td>1</td>\n",
              "      <td>1</td>\n",
              "      <td>0</td>\n",
              "      <td>0</td>\n",
              "    </tr>\n",
              "    <tr>\n",
              "      <th>4</th>\n",
              "      <td>1/1/2019</td>\n",
              "      <td>151204</td>\n",
              "      <td>Male</td>\n",
              "      <td>27</td>\n",
              "      <td>Single</td>\n",
              "      <td>Connecticut</td>\n",
              "      <td>Basic</td>\n",
              "      <td>self-employed</td>\n",
              "      <td>Card</td>\n",
              "      <td>0.0</td>\n",
              "      <td>...</td>\n",
              "      <td>0</td>\n",
              "      <td>0</td>\n",
              "      <td>0</td>\n",
              "      <td>0</td>\n",
              "      <td>0</td>\n",
              "      <td>1</td>\n",
              "      <td>0</td>\n",
              "      <td>1</td>\n",
              "      <td>0</td>\n",
              "      <td>0</td>\n",
              "    </tr>\n",
              "  </tbody>\n",
              "</table>\n",
              "<p>5 rows × 33 columns</p>\n",
              "</div>\n",
              "      <button class=\"colab-df-convert\" onclick=\"convertToInteractive('df-cf72739d-39cd-484f-badf-1c3499af7578')\"\n",
              "              title=\"Convert this dataframe to an interactive table.\"\n",
              "              style=\"display:none;\">\n",
              "        \n",
              "  <svg xmlns=\"http://www.w3.org/2000/svg\" height=\"24px\"viewBox=\"0 0 24 24\"\n",
              "       width=\"24px\">\n",
              "    <path d=\"M0 0h24v24H0V0z\" fill=\"none\"/>\n",
              "    <path d=\"M18.56 5.44l.94 2.06.94-2.06 2.06-.94-2.06-.94-.94-2.06-.94 2.06-2.06.94zm-11 1L8.5 8.5l.94-2.06 2.06-.94-2.06-.94L8.5 2.5l-.94 2.06-2.06.94zm10 10l.94 2.06.94-2.06 2.06-.94-2.06-.94-.94-2.06-.94 2.06-2.06.94z\"/><path d=\"M17.41 7.96l-1.37-1.37c-.4-.4-.92-.59-1.43-.59-.52 0-1.04.2-1.43.59L10.3 9.45l-7.72 7.72c-.78.78-.78 2.05 0 2.83L4 21.41c.39.39.9.59 1.41.59.51 0 1.02-.2 1.41-.59l7.78-7.78 2.81-2.81c.8-.78.8-2.07 0-2.86zM5.41 20L4 18.59l7.72-7.72 1.47 1.35L5.41 20z\"/>\n",
              "  </svg>\n",
              "      </button>\n",
              "      \n",
              "  <style>\n",
              "    .colab-df-container {\n",
              "      display:flex;\n",
              "      flex-wrap:wrap;\n",
              "      gap: 12px;\n",
              "    }\n",
              "\n",
              "    .colab-df-convert {\n",
              "      background-color: #E8F0FE;\n",
              "      border: none;\n",
              "      border-radius: 50%;\n",
              "      cursor: pointer;\n",
              "      display: none;\n",
              "      fill: #1967D2;\n",
              "      height: 32px;\n",
              "      padding: 0 0 0 0;\n",
              "      width: 32px;\n",
              "    }\n",
              "\n",
              "    .colab-df-convert:hover {\n",
              "      background-color: #E2EBFA;\n",
              "      box-shadow: 0px 1px 2px rgba(60, 64, 67, 0.3), 0px 1px 3px 1px rgba(60, 64, 67, 0.15);\n",
              "      fill: #174EA6;\n",
              "    }\n",
              "\n",
              "    [theme=dark] .colab-df-convert {\n",
              "      background-color: #3B4455;\n",
              "      fill: #D2E3FC;\n",
              "    }\n",
              "\n",
              "    [theme=dark] .colab-df-convert:hover {\n",
              "      background-color: #434B5C;\n",
              "      box-shadow: 0px 1px 3px 1px rgba(0, 0, 0, 0.15);\n",
              "      filter: drop-shadow(0px 1px 2px rgba(0, 0, 0, 0.3));\n",
              "      fill: #FFFFFF;\n",
              "    }\n",
              "  </style>\n",
              "\n",
              "      <script>\n",
              "        const buttonEl =\n",
              "          document.querySelector('#df-cf72739d-39cd-484f-badf-1c3499af7578 button.colab-df-convert');\n",
              "        buttonEl.style.display =\n",
              "          google.colab.kernel.accessAllowed ? 'block' : 'none';\n",
              "\n",
              "        async function convertToInteractive(key) {\n",
              "          const element = document.querySelector('#df-cf72739d-39cd-484f-badf-1c3499af7578');\n",
              "          const dataTable =\n",
              "            await google.colab.kernel.invokeFunction('convertToInteractive',\n",
              "                                                     [key], {});\n",
              "          if (!dataTable) return;\n",
              "\n",
              "          const docLinkHtml = 'Like what you see? Visit the ' +\n",
              "            '<a target=\"_blank\" href=https://colab.research.google.com/notebooks/data_table.ipynb>data table notebook</a>'\n",
              "            + ' to learn more about interactive tables.';\n",
              "          element.innerHTML = '';\n",
              "          dataTable['output_type'] = 'display_data';\n",
              "          await google.colab.output.renderOutput(dataTable, element);\n",
              "          const docLink = document.createElement('div');\n",
              "          docLink.innerHTML = docLinkHtml;\n",
              "          element.appendChild(docLink);\n",
              "        }\n",
              "      </script>\n",
              "    </div>\n",
              "  </div>\n",
              "  "
            ]
          },
          "metadata": {},
          "execution_count": 13
        }
      ]
    },
    {
      "cell_type": "markdown",
      "source": [
        "## 3.4 Normalize Amount Spent"
      ],
      "metadata": {
        "id": "U3KXtH0v69X8"
      }
    },
    {
      "cell_type": "code",
      "source": [
        "df = df.loc[:,~df.columns.duplicated()].copy()\n",
        "min_amount = df['Amount_spent'].min()\n",
        "max_amount = df['Amount_spent'].max()\n",
        "\n",
        "df['Amount_spent_n'] = (df['Amount_spent'] - min_amount) / (max_amount - min_amount)"
      ],
      "metadata": {
        "id": "6ZUudKJX68c3"
      },
      "execution_count": 18,
      "outputs": []
    },
    {
      "cell_type": "markdown",
      "source": [
        "# 4. Phase 1: Compare amount spent with mean of amount by employee state"
      ],
      "metadata": {
        "id": "vDN5LYDlwG6W"
      }
    },
    {
      "cell_type": "code",
      "source": [
        "import pandas as pd\n",
        "import matplotlib.pyplot as plt\n",
        "\n",
        "\n",
        "mean_amount_spent = df.groupby('Employees_status')['Amount_spent'].mean().to_dict()\n",
        "\n",
        "above_mean_counts = {}\n",
        "below_mean_counts = {}\n",
        "\n",
        "for index, row in df.iterrows():\n",
        "    employees_status = row['Employees_status']\n",
        "    amount_spent = row['Amount_spent']\n",
        "    threshold = mean_amount_spent[employees_status]\n",
        "    amount_spent = amount_spent\n",
        "\n",
        "    if amount_spent > threshold:\n",
        "        above_mean_counts[employees_status] = above_mean_counts.get(employees_status, 0) + 1\n",
        "        row['Above_Mean'] = True\n",
        "    else:\n",
        "        below_mean_counts[employees_status] = below_mean_counts.get(employees_status, 0) + 1\n",
        "        row['Above_Mean'] = False\n",
        "\n",
        "employees_status_labels = list(mean_amount_spent.keys())\n",
        "above_mean_values = [above_mean_counts.get(status, 0) for status in employees_status_labels]\n",
        "below_mean_values = [below_mean_counts.get(status, 0) for status in employees_status_labels]\n",
        "\n",
        "plt.bar(employees_status_labels, above_mean_values, label='Above Mean')\n",
        "plt.bar(employees_status_labels, below_mean_values, bottom=above_mean_values, label='Below Mean')\n",
        "plt.axhline(0, color='gray', linewidth=0.8)\n",
        "plt.xlabel('Employees Status')\n",
        "plt.ylabel('Count')\n",
        "plt.title('Comparison of Amount Spent by Employees Status')\n",
        "plt.legend()\n",
        "plt.xticks(rotation=45)\n",
        "plt.show()\n"
      ],
      "metadata": {
        "colab": {
          "base_uri": "https://localhost:8080/",
          "height": 543
        },
        "id": "e32AkLWEzyPo",
        "outputId": "a723ca84-611e-4a7c-a39b-69089d97f54a"
      },
      "execution_count": 23,
      "outputs": [
        {
          "output_type": "display_data",
          "data": {
            "text/plain": [
              "<Figure size 640x480 with 1 Axes>"
            ],
            "image/png": "[encoded data removed]"
          },
          "metadata": {}
        }
      ]
    },
    {
      "cell_type": "code",
      "source": [
        "df.head()"
      ],
      "metadata": {
        "colab": {
          "base_uri": "https://localhost:8080/",
          "height": 317
        },
        "id": "ox0F4yZH1f0l",
        "outputId": "504f1c1f-3b3d-46e3-facf-e9bcc3bceedd"
      },
      "execution_count": 24,
      "outputs": [
        {
          "output_type": "execute_result",
          "data": {
            "text/plain": [
              "  Transaction_date  Transaction_ID  Gender  Age Marital_status  State_names  \\\n",
              "0         1/1/2019          151200  Female   19         Single       Kansas   \n",
              "1         1/1/2019          151201    Male   49         Single     Illinois   \n",
              "2         1/1/2019          151202    Male   63        Married   New Mexico   \n",
              "3         1/1/2019          151203  Female   18         Single     Virginia   \n",
              "4         1/1/2019          151204    Male   27         Single  Connecticut   \n",
              "\n",
              "    Segment Employees_status Payment_method  Referal  ...  Segment_Platinum  \\\n",
              "0     Basic     Unemployment          Other      1.0  ...                 0   \n",
              "1     Basic    self-employed           Card      0.0  ...                 0   \n",
              "2     Basic          workers         PayPal      1.0  ...                 0   \n",
              "3  Platinum          workers           Card      1.0  ...                 1   \n",
              "4     Basic    self-employed           Card      0.0  ...                 0   \n",
              "\n",
              "   Segment_Silver  Employees_status_Employees  Employees_status_Unemployment  \\\n",
              "0               0                           0                              1   \n",
              "1               0                           0                              0   \n",
              "2               0                           0                              0   \n",
              "3               0                           0                              0   \n",
              "4               0                           0                              0   \n",
              "\n",
              "   Employees_status_self-employed  Employees_status_workers  \\\n",
              "0                               0                         0   \n",
              "1                               1                         0   \n",
              "2                               0                         1   \n",
              "3                               0                         1   \n",
              "4                               1                         0   \n",
              "\n",
              "   Payment_method_Card  Payment_method_Other  Payment_method_PayPal  \\\n",
              "0                    0                     1                      0   \n",
              "1                    1                     0                      0   \n",
              "2                    0                     0                      1   \n",
              "3                    1                     0                      0   \n",
              "4                    1                     0                      0   \n",
              "\n",
              "   Amount_spent_n  \n",
              "0        0.702360  \n",
              "1        0.185746  \n",
              "2        0.538272  \n",
              "3        0.410496  \n",
              "4        0.485429  \n",
              "\n",
              "[5 rows x 28 columns]"
            ],
            "text/html": [
              "\n",
              "  <div id=\"df-a8e5c8e6-f5de-4c72-9781-c6a8c0cd7384\">\n",
              "    <div class=\"colab-df-container\">\n",
              "      <div>\n",
              "<style scoped>\n",
              "    .dataframe tbody tr th:only-of-type {\n",
              "        vertical-align: middle;\n",
              "    }\n",
              "\n",
              "    .dataframe tbody tr th {\n",
              "        vertical-align: top;\n",
              "    }\n",
              "\n",
              "    .dataframe thead th {\n",
              "        text-align: right;\n",
              "    }\n",
              "</style>\n",
              "<table border=\"1\" class=\"dataframe\">\n",
              "  <thead>\n",
              "    <tr style=\"text-align: right;\">\n",
              "      <th></th>\n",
              "      <th>Transaction_date</th>\n",
              "      <th>Transaction_ID</th>\n",
              "      <th>Gender</th>\n",
              "      <th>Age</th>\n",
              "      <th>Marital_status</th>\n",
              "      <th>State_names</th>\n",
              "      <th>Segment</th>\n",
              "      <th>Employees_status</th>\n",
              "      <th>Payment_method</th>\n",
              "      <th>Referal</th>\n",
              "      <th>...</th>\n",
              "      <th>Segment_Platinum</th>\n",
              "      <th>Segment_Silver</th>\n",
              "      <th>Employees_status_Employees</th>\n",
              "      <th>Employees_status_Unemployment</th>\n",
              "      <th>Employees_status_self-employed</th>\n",
              "      <th>Employees_status_workers</th>\n",
              "      <th>Payment_method_Card</th>\n",
              "      <th>Payment_method_Other</th>\n",
              "      <th>Payment_method_PayPal</th>\n",
              "      <th>Amount_spent_n</th>\n",
              "    </tr>\n",
              "  </thead>\n",
              "  <tbody>\n",
              "    <tr>\n",
              "      <th>0</th>\n",
              "      <td>1/1/2019</td>\n",
              "      <td>151200</td>\n",
              "      <td>Female</td>\n",
              "      <td>19</td>\n",
              "      <td>Single</td>\n",
              "      <td>Kansas</td>\n",
              "      <td>Basic</td>\n",
              "      <td>Unemployment</td>\n",
              "      <td>Other</td>\n",
              "      <td>1.0</td>\n",
              "      <td>...</td>\n",
              "      <td>0</td>\n",
              "      <td>0</td>\n",
              "      <td>0</td>\n",
              "      <td>1</td>\n",
              "      <td>0</td>\n",
              "      <td>0</td>\n",
              "      <td>0</td>\n",
              "      <td>1</td>\n",
              "      <td>0</td>\n",
              "      <td>0.702360</td>\n",
              "    </tr>\n",
              "    <tr>\n",
              "      <th>1</th>\n",
              "      <td>1/1/2019</td>\n",
              "      <td>151201</td>\n",
              "      <td>Male</td>\n",
              "      <td>49</td>\n",
              "      <td>Single</td>\n",
              "      <td>Illinois</td>\n",
              "      <td>Basic</td>\n",
              "      <td>self-employed</td>\n",
              "      <td>Card</td>\n",
              "      <td>0.0</td>\n",
              "      <td>...</td>\n",
              "      <td>0</td>\n",
              "      <td>0</td>\n",
              "      <td>0</td>\n",
              "      <td>0</td>\n",
              "      <td>1</td>\n",
              "      <td>0</td>\n",
              "      <td>1</td>\n",
              "      <td>0</td>\n",
              "      <td>0</td>\n",
              "      <td>0.185746</td>\n",
              "    </tr>\n",
              "    <tr>\n",
              "      <th>2</th>\n",
              "      <td>1/1/2019</td>\n",
              "      <td>151202</td>\n",
              "      <td>Male</td>\n",
              "      <td>63</td>\n",
              "      <td>Married</td>\n",
              "      <td>New Mexico</td>\n",
              "      <td>Basic</td>\n",
              "      <td>workers</td>\n",
              "      <td>PayPal</td>\n",
              "      <td>1.0</td>\n",
              "      <td>...</td>\n",
              "      <td>0</td>\n",
              "      <td>0</td>\n",
              "      <td>0</td>\n",
              "      <td>0</td>\n",
              "      <td>0</td>\n",
              "      <td>1</td>\n",
              "      <td>0</td>\n",
              "      <td>0</td>\n",
              "      <td>1</td>\n",
              "      <td>0.538272</td>\n",
              "    </tr>\n",
              "    <tr>\n",
              "      <th>3</th>\n",
              "      <td>1/1/2019</td>\n",
              "      <td>151203</td>\n",
              "      <td>Female</td>\n",
              "      <td>18</td>\n",
              "      <td>Single</td>\n",
              "      <td>Virginia</td>\n",
              "      <td>Platinum</td>\n",
              "      <td>workers</td>\n",
              "      <td>Card</td>\n",
              "      <td>1.0</td>\n",
              "      <td>...</td>\n",
              "      <td>1</td>\n",
              "      <td>0</td>\n",
              "      <td>0</td>\n",
              "      <td>0</td>\n",
              "      <td>0</td>\n",
              "      <td>1</td>\n",
              "      <td>1</td>\n",
              "      <td>0</td>\n",
              "      <td>0</td>\n",
              "      <td>0.410496</td>\n",
              "    </tr>\n",
              "    <tr>\n",
              "      <th>4</th>\n",
              "      <td>1/1/2019</td>\n",
              "      <td>151204</td>\n",
              "      <td>Male</td>\n",
              "      <td>27</td>\n",
              "      <td>Single</td>\n",
              "      <td>Connecticut</td>\n",
              "      <td>Basic</td>\n",
              "      <td>self-employed</td>\n",
              "      <td>Card</td>\n",
              "      <td>0.0</td>\n",
              "      <td>...</td>\n",
              "      <td>0</td>\n",
              "      <td>0</td>\n",
              "      <td>0</td>\n",
              "      <td>0</td>\n",
              "      <td>1</td>\n",
              "      <td>0</td>\n",
              "      <td>1</td>\n",
              "      <td>0</td>\n",
              "      <td>0</td>\n",
              "      <td>0.485429</td>\n",
              "    </tr>\n",
              "  </tbody>\n",
              "</table>\n",
              "<p>5 rows × 28 columns</p>\n",
              "</div>\n",
              "      <button class=\"colab-df-convert\" onclick=\"convertToInteractive('df-a8e5c8e6-f5de-4c72-9781-c6a8c0cd7384')\"\n",
              "              title=\"Convert this dataframe to an interactive table.\"\n",
              "              style=\"display:none;\">\n",
              "        \n",
              "  <svg xmlns=\"http://www.w3.org/2000/svg\" height=\"24px\"viewBox=\"0 0 24 24\"\n",
              "       width=\"24px\">\n",
              "    <path d=\"M0 0h24v24H0V0z\" fill=\"none\"/>\n",
              "    <path d=\"M18.56 5.44l.94 2.06.94-2.06 2.06-.94-2.06-.94-.94-2.06-.94 2.06-2.06.94zm-11 1L8.5 8.5l.94-2.06 2.06-.94-2.06-.94L8.5 2.5l-.94 2.06-2.06.94zm10 10l.94 2.06.94-2.06 2.06-.94-2.06-.94-.94-2.06-.94 2.06-2.06.94z\"/><path d=\"M17.41 7.96l-1.37-1.37c-.4-.4-.92-.59-1.43-.59-.52 0-1.04.2-1.43.59L10.3 9.45l-7.72 7.72c-.78.78-.78 2.05 0 2.83L4 21.41c.39.39.9.59 1.41.59.51 0 1.02-.2 1.41-.59l7.78-7.78 2.81-2.81c.8-.78.8-2.07 0-2.86zM5.41 20L4 18.59l7.72-7.72 1.47 1.35L5.41 20z\"/>\n",
              "  </svg>\n",
              "      </button>\n",
              "      \n",
              "  <style>\n",
              "    .colab-df-container {\n",
              "      display:flex;\n",
              "      flex-wrap:wrap;\n",
              "      gap: 12px;\n",
              "    }\n",
              "\n",
              "    .colab-df-convert {\n",
              "      background-color: #E8F0FE;\n",
              "      border: none;\n",
              "      border-radius: 50%;\n",
              "      cursor: pointer;\n",
              "      display: none;\n",
              "      fill: #1967D2;\n",
              "      height: 32px;\n",
              "      padding: 0 0 0 0;\n",
              "      width: 32px;\n",
              "    }\n",
              "\n",
              "    .colab-df-convert:hover {\n",
              "      background-color: #E2EBFA;\n",
              "      box-shadow: 0px 1px 2px rgba(60, 64, 67, 0.3), 0px 1px 3px 1px rgba(60, 64, 67, 0.15);\n",
              "      fill: #174EA6;\n",
              "    }\n",
              "\n",
              "    [theme=dark] .colab-df-convert {\n",
              "      background-color: #3B4455;\n",
              "      fill: #D2E3FC;\n",
              "    }\n",
              "\n",
              "    [theme=dark] .colab-df-convert:hover {\n",
              "      background-color: #434B5C;\n",
              "      box-shadow: 0px 1px 3px 1px rgba(0, 0, 0, 0.15);\n",
              "      filter: drop-shadow(0px 1px 2px rgba(0, 0, 0, 0.3));\n",
              "      fill: #FFFFFF;\n",
              "    }\n",
              "  </style>\n",
              "\n",
              "      <script>\n",
              "        const buttonEl =\n",
              "          document.querySelector('#df-a8e5c8e6-f5de-4c72-9781-c6a8c0cd7384 button.colab-df-convert');\n",
              "        buttonEl.style.display =\n",
              "          google.colab.kernel.accessAllowed ? 'block' : 'none';\n",
              "\n",
              "        async function convertToInteractive(key) {\n",
              "          const element = document.querySelector('#df-a8e5c8e6-f5de-4c72-9781-c6a8c0cd7384');\n",
              "          const dataTable =\n",
              "            await google.colab.kernel.invokeFunction('convertToInteractive',\n",
              "                                                     [key], {});\n",
              "          if (!dataTable) return;\n",
              "\n",
              "          const docLinkHtml = 'Like what you see? Visit the ' +\n",
              "            '<a target=\"_blank\" href=https://colab.research.google.com/notebooks/data_table.ipynb>data table notebook</a>'\n",
              "            + ' to learn more about interactive tables.';\n",
              "          element.innerHTML = '';\n",
              "          dataTable['output_type'] = 'display_data';\n",
              "          await google.colab.output.renderOutput(dataTable, element);\n",
              "          const docLink = document.createElement('div');\n",
              "          docLink.innerHTML = docLinkHtml;\n",
              "          element.appendChild(docLink);\n",
              "        }\n",
              "      </script>\n",
              "    </div>\n",
              "  </div>\n",
              "  "
            ]
          },
          "metadata": {},
          "execution_count": 24
        }
      ]
    },
    {
      "cell_type": "markdown",
      "source": [
        "# 5. Phase 2: Extract Frequent Patterns"
      ],
      "metadata": {
        "id": "mmLLPL1uHZ4Y"
      }
    },
    {
      "cell_type": "code",
      "source": [
        "import pandas as pd\n",
        "from mlxtend.frequent_patterns import apriori, association_rules\n",
        "\n",
        "\n",
        "columns_of_interest = ['Gender', 'Marital_status', 'State_names', 'Payment_method', 'Amount_spent']\n",
        "df_selected = df[columns_of_interest].copy()\n",
        "\n",
        "\n",
        "df_selected['Amount_spent'] = pd.qcut(df_selected['Amount_spent'], q=4, labels=[\"q1\", \"q2\", \"q3\", \"q4\"])\n",
        "\n",
        "df_selected = df_selected.astype(str)\n",
        "df_encoded = pd.get_dummies(df_selected, columns=columns_of_interest)\n",
        "\n",
        "frequent_itemsets = apriori(df_encoded, min_support=0.1, use_colnames=True)\n",
        "\n",
        "association_rules_df = association_rules(frequent_itemsets, metric='lift', min_threshold=1)\n",
        "\n",
        "frequent_itemsets"
      ],
      "metadata": {
        "colab": {
          "base_uri": "https://localhost:8080/",
          "height": 1000
        },
        "id": "TvUQJFBO1ll_",
        "outputId": "83d3f3ea-a852-4ae9-d4f3-aa44b868aa30"
      },
      "execution_count": 26,
      "outputs": [
        {
          "output_type": "execute_result",
          "data": {
            "text/plain": [
              "     support                                           itemsets\n",
              "0   0.550820                                    (Gender_Female)\n",
              "1   0.449180                                      (Gender_Male)\n",
              "2   0.588115                           (Marital_status_Married)\n",
              "3   0.411885                            (Marital_status_Single)\n",
              "4   0.300000                              (Payment_method_Card)\n",
              "5   0.236885                             (Payment_method_Other)\n",
              "6   0.463115                            (Payment_method_PayPal)\n",
              "7   0.250000                                  (Amount_spent_q1)\n",
              "8   0.339754                                  (Amount_spent_q2)\n",
              "9   0.160246                                  (Amount_spent_q3)\n",
              "10  0.250000                                  (Amount_spent_q4)\n",
              "11  0.319672            (Gender_Female, Marital_status_Married)\n",
              "12  0.231148             (Marital_status_Single, Gender_Female)\n",
              "13  0.175820               (Payment_method_Card, Gender_Female)\n",
              "14  0.126639              (Gender_Female, Payment_method_Other)\n",
              "15  0.248361             (Gender_Female, Payment_method_PayPal)\n",
              "16  0.138934                   (Gender_Female, Amount_spent_q1)\n",
              "17  0.185246                   (Gender_Female, Amount_spent_q2)\n",
              "18  0.139344                   (Gender_Female, Amount_spent_q4)\n",
              "19  0.268443              (Gender_Male, Marital_status_Married)\n",
              "20  0.180738               (Marital_status_Single, Gender_Male)\n",
              "21  0.124180                 (Payment_method_Card, Gender_Male)\n",
              "22  0.110246                (Gender_Male, Payment_method_Other)\n",
              "23  0.214754               (Gender_Male, Payment_method_PayPal)\n",
              "24  0.111066                     (Gender_Male, Amount_spent_q1)\n",
              "25  0.154508                     (Gender_Male, Amount_spent_q2)\n",
              "26  0.110656                     (Gender_Male, Amount_spent_q4)\n",
              "27  0.176639      (Payment_method_Card, Marital_status_Married)\n",
              "28  0.143852     (Marital_status_Married, Payment_method_Other)\n",
              "29  0.267623    (Marital_status_Married, Payment_method_PayPal)\n",
              "30  0.146721          (Marital_status_Married, Amount_spent_q1)\n",
              "31  0.206557          (Marital_status_Married, Amount_spent_q2)\n",
              "32  0.147951          (Marital_status_Married, Amount_spent_q4)\n",
              "33  0.123361       (Marital_status_Single, Payment_method_Card)\n",
              "34  0.195492     (Marital_status_Single, Payment_method_PayPal)\n",
              "35  0.103279           (Marital_status_Single, Amount_spent_q1)\n",
              "36  0.133197           (Marital_status_Single, Amount_spent_q2)\n",
              "37  0.102049           (Marital_status_Single, Amount_spent_q4)\n",
              "38  0.102049             (Payment_method_Card, Amount_spent_q2)\n",
              "39  0.115984           (Amount_spent_q1, Payment_method_PayPal)\n",
              "40  0.160246           (Amount_spent_q2, Payment_method_PayPal)\n",
              "41  0.113934           (Amount_spent_q4, Payment_method_PayPal)\n",
              "42  0.145902  (Gender_Female, Marital_status_Married, Paymen...\n",
              "43  0.111885  (Amount_spent_q2, Gender_Female, Marital_statu...\n",
              "44  0.102459  (Marital_status_Single, Gender_Female, Payment...\n",
              "45  0.121721  (Gender_Male, Marital_status_Married, Payment_..."
            ],
            "text/html": [
              "\n",
              "  <div id=\"df-621ab9dc-2e03-41f3-bf75-fba531e40a66\">\n",
              "    <div class=\"colab-df-container\">\n",
              "      <div>\n",
              "<style scoped>\n",
              "    .dataframe tbody tr th:only-of-type {\n",
              "        vertical-align: middle;\n",
              "    }\n",
              "\n",
              "    .dataframe tbody tr th {\n",
              "        vertical-align: top;\n",
              "    }\n",
              "\n",
              "    .dataframe thead th {\n",
              "        text-align: right;\n",
              "    }\n",
              "</style>\n",
              "<table border=\"1\" class=\"dataframe\">\n",
              "  <thead>\n",
              "    <tr style=\"text-align: right;\">\n",
              "      <th></th>\n",
              "      <th>support</th>\n",
              "      <th>itemsets</th>\n",
              "    </tr>\n",
              "  </thead>\n",
              "  <tbody>\n",
              "    <tr>\n",
              "      <th>0</th>\n",
              "      <td>0.550820</td>\n",
              "      <td>(Gender_Female)</td>\n",
              "    </tr>\n",
              "    <tr>\n",
              "      <th>1</th>\n",
              "      <td>0.449180</td>\n",
              "      <td>(Gender_Male)</td>\n",
              "    </tr>\n",
              "    <tr>\n",
              "      <th>2</th>\n",
              "      <td>0.588115</td>\n",
              "      <td>(Marital_status_Married)</td>\n",
              "    </tr>\n",
              "    <tr>\n",
              "      <th>3</th>\n",
              "      <td>0.411885</td>\n",
              "      <td>(Marital_status_Single)</td>\n",
              "    </tr>\n",
              "    <tr>\n",
              "      <th>4</th>\n",
              "      <td>0.300000</td>\n",
              "      <td>(Payment_method_Card)</td>\n",
              "    </tr>\n",
              "    <tr>\n",
              "      <th>5</th>\n",
              "      <td>0.236885</td>\n",
              "      <td>(Payment_method_Other)</td>\n",
              "    </tr>\n",
              "    <tr>\n",
              "      <th>6</th>\n",
              "      <td>0.463115</td>\n",
              "      <td>(Payment_method_PayPal)</td>\n",
              "    </tr>\n",
              "    <tr>\n",
              "      <th>7</th>\n",
              "      <td>0.250000</td>\n",
              "      <td>(Amount_spent_q1)</td>\n",
              "    </tr>\n",
              "    <tr>\n",
              "      <th>8</th>\n",
              "      <td>0.339754</td>\n",
              "      <td>(Amount_spent_q2)</td>\n",
              "    </tr>\n",
              "    <tr>\n",
              "      <th>9</th>\n",
              "      <td>0.160246</td>\n",
              "      <td>(Amount_spent_q3)</td>\n",
              "    </tr>\n",
              "    <tr>\n",
              "      <th>10</th>\n",
              "      <td>0.250000</td>\n",
              "      <td>(Amount_spent_q4)</td>\n",
              "    </tr>\n",
              "    <tr>\n",
              "      <th>11</th>\n",
              "      <td>0.319672</td>\n",
              "      <td>(Gender_Female, Marital_status_Married)</td>\n",
              "    </tr>\n",
              "    <tr>\n",
              "      <th>12</th>\n",
              "      <td>0.231148</td>\n",
              "      <td>(Marital_status_Single, Gender_Female)</td>\n",
              "    </tr>\n",
              "    <tr>\n",
              "      <th>13</th>\n",
              "      <td>0.175820</td>\n",
              "      <td>(Payment_method_Card, Gender_Female)</td>\n",
              "    </tr>\n",
              "    <tr>\n",
              "      <th>14</th>\n",
              "      <td>0.126639</td>\n",
              "      <td>(Gender_Female, Payment_method_Other)</td>\n",
              "    </tr>\n",
              "    <tr>\n",
              "      <th>15</th>\n",
              "      <td>0.248361</td>\n",
              "      <td>(Gender_Female, Payment_method_PayPal)</td>\n",
              "    </tr>\n",
              "    <tr>\n",
              "      <th>16</th>\n",
              "      <td>0.138934</td>\n",
              "      <td>(Gender_Female, Amount_spent_q1)</td>\n",
              "    </tr>\n",
              "    <tr>\n",
              "      <th>17</th>\n",
              "      <td>0.185246</td>\n",
              "      <td>(Gender_Female, Amount_spent_q2)</td>\n",
              "    </tr>\n",
              "    <tr>\n",
              "      <th>18</th>\n",
              "      <td>0.139344</td>\n",
              "      <td>(Gender_Female, Amount_spent_q4)</td>\n",
              "    </tr>\n",
              "    <tr>\n",
              "      <th>19</th>\n",
              "      <td>0.268443</td>\n",
              "      <td>(Gender_Male, Marital_status_Married)</td>\n",
              "    </tr>\n",
              "    <tr>\n",
              "      <th>20</th>\n",
              "      <td>0.180738</td>\n",
              "      <td>(Marital_status_Single, Gender_Male)</td>\n",
              "    </tr>\n",
              "    <tr>\n",
              "      <th>21</th>\n",
              "      <td>0.124180</td>\n",
              "      <td>(Payment_method_Card, Gender_Male)</td>\n",
              "    </tr>\n",
              "    <tr>\n",
              "      <th>22</th>\n",
              "      <td>0.110246</td>\n",
              "      <td>(Gender_Male, Payment_method_Other)</td>\n",
              "    </tr>\n",
              "    <tr>\n",
              "      <th>23</th>\n",
              "      <td>0.214754</td>\n",
              "      <td>(Gender_Male, Payment_method_PayPal)</td>\n",
              "    </tr>\n",
              "    <tr>\n",
              "      <th>24</th>\n",
              "      <td>0.111066</td>\n",
              "      <td>(Gender_Male, Amount_spent_q1)</td>\n",
              "    </tr>\n",
              "    <tr>\n",
              "      <th>25</th>\n",
              "      <td>0.154508</td>\n",
              "      <td>(Gender_Male, Amount_spent_q2)</td>\n",
              "    </tr>\n",
              "    <tr>\n",
              "      <th>26</th>\n",
              "      <td>0.110656</td>\n",
              "      <td>(Gender_Male, Amount_spent_q4)</td>\n",
              "    </tr>\n",
              "    <tr>\n",
              "      <th>27</th>\n",
              "      <td>0.176639</td>\n",
              "      <td>(Payment_method_Card, Marital_status_Married)</td>\n",
              "    </tr>\n",
              "    <tr>\n",
              "      <th>28</th>\n",
              "      <td>0.143852</td>\n",
              "      <td>(Marital_status_Married, Payment_method_Other)</td>\n",
              "    </tr>\n",
              "    <tr>\n",
              "      <th>29</th>\n",
              "      <td>0.267623</td>\n",
              "      <td>(Marital_status_Married, Payment_method_PayPal)</td>\n",
              "    </tr>\n",
              "    <tr>\n",
              "      <th>30</th>\n",
              "      <td>0.146721</td>\n",
              "      <td>(Marital_status_Married, Amount_spent_q1)</td>\n",
              "    </tr>\n",
              "    <tr>\n",
              "      <th>31</th>\n",
              "      <td>0.206557</td>\n",
              "      <td>(Marital_status_Married, Amount_spent_q2)</td>\n",
              "    </tr>\n",
              "    <tr>\n",
              "      <th>32</th>\n",
              "      <td>0.147951</td>\n",
              "      <td>(Marital_status_Married, Amount_spent_q4)</td>\n",
              "    </tr>\n",
              "    <tr>\n",
              "      <th>33</th>\n",
              "      <td>0.123361</td>\n",
              "      <td>(Marital_status_Single, Payment_method_Card)</td>\n",
              "    </tr>\n",
              "    <tr>\n",
              "      <th>34</th>\n",
              "      <td>0.195492</td>\n",
              "      <td>(Marital_status_Single, Payment_method_PayPal)</td>\n",
              "    </tr>\n",
              "    <tr>\n",
              "      <th>35</th>\n",
              "      <td>0.103279</td>\n",
              "      <td>(Marital_status_Single, Amount_spent_q1)</td>\n",
              "    </tr>\n",
              "    <tr>\n",
              "      <th>36</th>\n",
              "      <td>0.133197</td>\n",
              "      <td>(Marital_status_Single, Amount_spent_q2)</td>\n",
              "    </tr>\n",
              "    <tr>\n",
              "      <th>37</th>\n",
              "      <td>0.102049</td>\n",
              "      <td>(Marital_status_Single, Amount_spent_q4)</td>\n",
              "    </tr>\n",
              "    <tr>\n",
              "      <th>38</th>\n",
              "      <td>0.102049</td>\n",
              "      <td>(Payment_method_Card, Amount_spent_q2)</td>\n",
              "    </tr>\n",
              "    <tr>\n",
              "      <th>39</th>\n",
              "      <td>0.115984</td>\n",
              "      <td>(Amount_spent_q1, Payment_method_PayPal)</td>\n",
              "    </tr>\n",
              "    <tr>\n",
              "      <th>40</th>\n",
              "      <td>0.160246</td>\n",
              "      <td>(Amount_spent_q2, Payment_method_PayPal)</td>\n",
              "    </tr>\n",
              "    <tr>\n",
              "      <th>41</th>\n",
              "      <td>0.113934</td>\n",
              "      <td>(Amount_spent_q4, Payment_method_PayPal)</td>\n",
              "    </tr>\n",
              "    <tr>\n",
              "      <th>42</th>\n",
              "      <td>0.145902</td>\n",
              "      <td>(Gender_Female, Marital_status_Married, Paymen...</td>\n",
              "    </tr>\n",
              "    <tr>\n",
              "      <th>43</th>\n",
              "      <td>0.111885</td>\n",
              "      <td>(Amount_spent_q2, Gender_Female, Marital_statu...</td>\n",
              "    </tr>\n",
              "    <tr>\n",
              "      <th>44</th>\n",
              "      <td>0.102459</td>\n",
              "      <td>(Marital_status_Single, Gender_Female, Payment...</td>\n",
              "    </tr>\n",
              "    <tr>\n",
              "      <th>45</th>\n",
              "      <td>0.121721</td>\n",
              "      <td>(Gender_Male, Marital_status_Married, Payment_...</td>\n",
              "    </tr>\n",
              "  </tbody>\n",
              "</table>\n",
              "</div>\n",
              "      <button class=\"colab-df-convert\" onclick=\"convertToInteractive('df-621ab9dc-2e03-41f3-bf75-fba531e40a66')\"\n",
              "              title=\"Convert this dataframe to an interactive table.\"\n",
              "              style=\"display:none;\">\n",
              "        \n",
              "  <svg xmlns=\"http://www.w3.org/2000/svg\" height=\"24px\"viewBox=\"0 0 24 24\"\n",
              "       width=\"24px\">\n",
              "    <path d=\"M0 0h24v24H0V0z\" fill=\"none\"/>\n",
              "    <path d=\"M18.56 5.44l.94 2.06.94-2.06 2.06-.94-2.06-.94-.94-2.06-.94 2.06-2.06.94zm-11 1L8.5 8.5l.94-2.06 2.06-.94-2.06-.94L8.5 2.5l-.94 2.06-2.06.94zm10 10l.94 2.06.94-2.06 2.06-.94-2.06-.94-.94-2.06-.94 2.06-2.06.94z\"/><path d=\"M17.41 7.96l-1.37-1.37c-.4-.4-.92-.59-1.43-.59-.52 0-1.04.2-1.43.59L10.3 9.45l-7.72 7.72c-.78.78-.78 2.05 0 2.83L4 21.41c.39.39.9.59 1.41.59.51 0 1.02-.2 1.41-.59l7.78-7.78 2.81-2.81c.8-.78.8-2.07 0-2.86zM5.41 20L4 18.59l7.72-7.72 1.47 1.35L5.41 20z\"/>\n",
              "  </svg>\n",
              "      </button>\n",
              "      \n",
              "  <style>\n",
              "    .colab-df-container {\n",
              "      display:flex;\n",
              "      flex-wrap:wrap;\n",
              "      gap: 12px;\n",
              "    }\n",
              "\n",
              "    .colab-df-convert {\n",
              "      background-color: #E8F0FE;\n",
              "      border: none;\n",
              "      border-radius: 50%;\n",
              "      cursor: pointer;\n",
              "      display: none;\n",
              "      fill: #1967D2;\n",
              "      height: 32px;\n",
              "      padding: 0 0 0 0;\n",
              "      width: 32px;\n",
              "    }\n",
              "\n",
              "    .colab-df-convert:hover {\n",
              "      background-color: #E2EBFA;\n",
              "      box-shadow: 0px 1px 2px rgba(60, 64, 67, 0.3), 0px 1px 3px 1px rgba(60, 64, 67, 0.15);\n",
              "      fill: #174EA6;\n",
              "    }\n",
              "\n",
              "    [theme=dark] .colab-df-convert {\n",
              "      background-color: #3B4455;\n",
              "      fill: #D2E3FC;\n",
              "    }\n",
              "\n",
              "    [theme=dark] .colab-df-convert:hover {\n",
              "      background-color: #434B5C;\n",
              "      box-shadow: 0px 1px 3px 1px rgba(0, 0, 0, 0.15);\n",
              "      filter: drop-shadow(0px 1px 2px rgba(0, 0, 0, 0.3));\n",
              "      fill: #FFFFFF;\n",
              "    }\n",
              "  </style>\n",
              "\n",
              "      <script>\n",
              "        const buttonEl =\n",
              "          document.querySelector('#df-621ab9dc-2e03-41f3-bf75-fba531e40a66 button.colab-df-convert');\n",
              "        buttonEl.style.display =\n",
              "          google.colab.kernel.accessAllowed ? 'block' : 'none';\n",
              "\n",
              "        async function convertToInteractive(key) {\n",
              "          const element = document.querySelector('#df-621ab9dc-2e03-41f3-bf75-fba531e40a66');\n",
              "          const dataTable =\n",
              "            await google.colab.kernel.invokeFunction('convertToInteractive',\n",
              "                                                     [key], {});\n",
              "          if (!dataTable) return;\n",
              "\n",
              "          const docLinkHtml = 'Like what you see? Visit the ' +\n",
              "            '<a target=\"_blank\" href=https://colab.research.google.com/notebooks/data_table.ipynb>data table notebook</a>'\n",
              "            + ' to learn more about interactive tables.';\n",
              "          element.innerHTML = '';\n",
              "          dataTable['output_type'] = 'display_data';\n",
              "          await google.colab.output.renderOutput(dataTable, element);\n",
              "          const docLink = document.createElement('div');\n",
              "          docLink.innerHTML = docLinkHtml;\n",
              "          element.appendChild(docLink);\n",
              "        }\n",
              "      </script>\n",
              "    </div>\n",
              "  </div>\n",
              "  "
            ]
          },
          "metadata": {},
          "execution_count": 26
        }
      ]
    },
    {
      "cell_type": "code",
      "source": [
        "association_rules_df"
      ],
      "metadata": {
        "colab": {
          "base_uri": "https://localhost:8080/",
          "height": 1000
        },
        "id": "ZZUDWDBy4E2v",
        "outputId": "3ed85894-6d74-421e-d0f3-f05b14945190"
      },
      "execution_count": 27,
      "outputs": [
        {
          "output_type": "execute_result",
          "data": {
            "text/plain": [
              "                                        antecedents  \\\n",
              "0                           (Marital_status_Single)   \n",
              "1                                   (Gender_Female)   \n",
              "2                             (Payment_method_Card)   \n",
              "3                                   (Gender_Female)   \n",
              "4                                   (Gender_Female)   \n",
              "5                                 (Amount_spent_q1)   \n",
              "6                                   (Gender_Female)   \n",
              "7                                 (Amount_spent_q4)   \n",
              "8                                     (Gender_Male)   \n",
              "9                          (Marital_status_Married)   \n",
              "10                                    (Gender_Male)   \n",
              "11                           (Payment_method_Other)   \n",
              "12                                    (Gender_Male)   \n",
              "13                          (Payment_method_PayPal)   \n",
              "14                                    (Gender_Male)   \n",
              "15                                (Amount_spent_q2)   \n",
              "16                            (Payment_method_Card)   \n",
              "17                         (Marital_status_Married)   \n",
              "18                         (Marital_status_Married)   \n",
              "19                           (Payment_method_Other)   \n",
              "20                         (Marital_status_Married)   \n",
              "21                                (Amount_spent_q2)   \n",
              "22                         (Marital_status_Married)   \n",
              "23                                (Amount_spent_q4)   \n",
              "24                          (Marital_status_Single)   \n",
              "25                          (Payment_method_PayPal)   \n",
              "26                          (Marital_status_Single)   \n",
              "27                                (Amount_spent_q1)   \n",
              "28                            (Payment_method_Card)   \n",
              "29                                (Amount_spent_q2)   \n",
              "30                                (Amount_spent_q1)   \n",
              "31                          (Payment_method_PayPal)   \n",
              "32                                (Amount_spent_q2)   \n",
              "33                          (Payment_method_PayPal)   \n",
              "34                 (Gender_Female, Amount_spent_q2)   \n",
              "35          (Gender_Female, Marital_status_Married)   \n",
              "36                                (Amount_spent_q2)   \n",
              "37                         (Marital_status_Married)   \n",
              "38           (Gender_Female, Payment_method_PayPal)   \n",
              "39                          (Marital_status_Single)   \n",
              "40  (Marital_status_Married, Payment_method_PayPal)   \n",
              "41                                    (Gender_Male)   \n",
              "\n",
              "                                        consequents  antecedent support  \\\n",
              "0                                   (Gender_Female)            0.411885   \n",
              "1                           (Marital_status_Single)            0.550820   \n",
              "2                                   (Gender_Female)            0.300000   \n",
              "3                             (Payment_method_Card)            0.550820   \n",
              "4                                 (Amount_spent_q1)            0.550820   \n",
              "5                                   (Gender_Female)            0.250000   \n",
              "6                                 (Amount_spent_q4)            0.550820   \n",
              "7                                   (Gender_Female)            0.250000   \n",
              "8                          (Marital_status_Married)            0.449180   \n",
              "9                                     (Gender_Male)            0.588115   \n",
              "10                           (Payment_method_Other)            0.449180   \n",
              "11                                    (Gender_Male)            0.236885   \n",
              "12                          (Payment_method_PayPal)            0.449180   \n",
              "13                                    (Gender_Male)            0.463115   \n",
              "14                                (Amount_spent_q2)            0.449180   \n",
              "15                                    (Gender_Male)            0.339754   \n",
              "16                         (Marital_status_Married)            0.300000   \n",
              "17                            (Payment_method_Card)            0.588115   \n",
              "18                           (Payment_method_Other)            0.588115   \n",
              "19                         (Marital_status_Married)            0.236885   \n",
              "20                                (Amount_spent_q2)            0.588115   \n",
              "21                         (Marital_status_Married)            0.339754   \n",
              "22                                (Amount_spent_q4)            0.588115   \n",
              "23                         (Marital_status_Married)            0.250000   \n",
              "24                          (Payment_method_PayPal)            0.411885   \n",
              "25                          (Marital_status_Single)            0.463115   \n",
              "26                                (Amount_spent_q1)            0.411885   \n",
              "27                          (Marital_status_Single)            0.250000   \n",
              "28                                (Amount_spent_q2)            0.300000   \n",
              "29                            (Payment_method_Card)            0.339754   \n",
              "30                          (Payment_method_PayPal)            0.250000   \n",
              "31                                (Amount_spent_q1)            0.463115   \n",
              "32                          (Payment_method_PayPal)            0.339754   \n",
              "33                                (Amount_spent_q2)            0.463115   \n",
              "34                         (Marital_status_Married)            0.185246   \n",
              "35                                (Amount_spent_q2)            0.319672   \n",
              "36          (Gender_Female, Marital_status_Married)            0.339754   \n",
              "37                 (Gender_Female, Amount_spent_q2)            0.588115   \n",
              "38                          (Marital_status_Single)            0.248361   \n",
              "39           (Gender_Female, Payment_method_PayPal)            0.411885   \n",
              "40                                    (Gender_Male)            0.267623   \n",
              "41  (Marital_status_Married, Payment_method_PayPal)            0.449180   \n",
              "\n",
              "    consequent support   support  confidence      lift  leverage  conviction  \n",
              "0             0.550820  0.231148    0.561194  1.018834  0.004273    1.023642  \n",
              "1             0.411885  0.231148    0.419643  1.018834  0.004273    1.013367  \n",
              "2             0.550820  0.175820    0.586066  1.063988  0.010574    1.085149  \n",
              "3             0.300000  0.175820    0.319196  1.063988  0.010574    1.028197  \n",
              "4             0.250000  0.138934    0.252232  1.008929  0.001230    1.002985  \n",
              "5             0.550820  0.138934    0.555738  1.008929  0.001230    1.011070  \n",
              "6             0.250000  0.139344    0.252976  1.011905  0.001639    1.003984  \n",
              "7             0.550820  0.139344    0.557377  1.011905  0.001639    1.014815  \n",
              "8             0.588115  0.268443    0.597628  1.016175  0.004273    1.023642  \n",
              "9             0.449180  0.268443    0.456446  1.016175  0.004273    1.013367  \n",
              "10            0.236885  0.110246    0.245438  1.036105  0.003842    1.011335  \n",
              "11            0.449180  0.110246    0.465398  1.036105  0.003842    1.030336  \n",
              "12            0.463115  0.214754    0.478102  1.032362  0.006732    1.028717  \n",
              "13            0.449180  0.214754    0.463717  1.032362  0.006732    1.027106  \n",
              "14            0.339754  0.154508    0.343978  1.012433  0.001897    1.006439  \n",
              "15            0.449180  0.154508    0.454765  1.012433  0.001897    1.010242  \n",
              "16            0.588115  0.176639    0.588798  1.001161  0.000205    1.001661  \n",
              "17            0.300000  0.176639    0.300348  1.001161  0.000205    1.000498  \n",
              "18            0.236885  0.143852    0.244599  1.032565  0.004537    1.010212  \n",
              "19            0.588115  0.143852    0.607266  1.032565  0.004537    1.048765  \n",
              "20            0.339754  0.206557    0.351220  1.033746  0.006743    1.017672  \n",
              "21            0.588115  0.206557    0.607961  1.033746  0.006743    1.050624  \n",
              "22            0.250000  0.147951    0.251568  1.006272  0.000922    1.002095  \n",
              "23            0.588115  0.147951    0.591803  1.006272  0.000922    1.009036  \n",
              "24            0.463115  0.195492    0.474627  1.024858  0.004742    1.021912  \n",
              "25            0.411885  0.195492    0.422124  1.024858  0.004742    1.017718  \n",
              "26            0.250000  0.103279    0.250746  1.002985  0.000307    1.000996  \n",
              "27            0.411885  0.103279    0.413115  1.002985  0.000307    1.002095  \n",
              "28            0.339754  0.102049    0.340164  1.001206  0.000123    1.000621  \n",
              "29            0.300000  0.102049    0.300362  1.001206  0.000123    1.000517  \n",
              "30            0.463115  0.115984    0.463934  1.001770  0.000205    1.001529  \n",
              "31            0.250000  0.115984    0.250442  1.001770  0.000205    1.000590  \n",
              "32            0.463115  0.160246    0.471653  1.018436  0.002901    1.016160  \n",
              "33            0.339754  0.160246    0.346018  1.018436  0.002901    1.009578  \n",
              "34            0.588115  0.111885    0.603982  1.026980  0.002939    1.040068  \n",
              "35            0.339754  0.111885    0.350000  1.030157  0.003275    1.015763  \n",
              "36            0.319672  0.111885    0.329312  1.030157  0.003275    1.014374  \n",
              "37            0.185246  0.111885    0.190244  1.026980  0.002939    1.006172  \n",
              "38            0.411885  0.102459    0.412541  1.001593  0.000163    1.001117  \n",
              "39            0.248361  0.102459    0.248756  1.001593  0.000163    1.000527  \n",
              "40            0.449180  0.121721    0.454824  1.012564  0.001510    1.010352  \n",
              "41            0.267623  0.121721    0.270985  1.012564  0.001510    1.004612  "
            ],
            "text/html": [
              "\n",
              "  <div id=\"df-cb9f66e2-8449-493f-8b50-54e1a4ed7f16\">\n",
              "    <div class=\"colab-df-container\">\n",
              "      <div>\n",
              "<style scoped>\n",
              "    .dataframe tbody tr th:only-of-type {\n",
              "        vertical-align: middle;\n",
              "    }\n",
              "\n",
              "    .dataframe tbody tr th {\n",
              "        vertical-align: top;\n",
              "    }\n",
              "\n",
              "    .dataframe thead th {\n",
              "        text-align: right;\n",
              "    }\n",
              "</style>\n",
              "<table border=\"1\" class=\"dataframe\">\n",
              "  <thead>\n",
              "    <tr style=\"text-align: right;\">\n",
              "      <th></th>\n",
              "      <th>antecedents</th>\n",
              "      <th>consequents</th>\n",
              "      <th>antecedent support</th>\n",
              "      <th>consequent support</th>\n",
              "      <th>support</th>\n",
              "      <th>confidence</th>\n",
              "      <th>lift</th>\n",
              "      <th>leverage</th>\n",
              "      <th>conviction</th>\n",
              "    </tr>\n",
              "  </thead>\n",
              "  <tbody>\n",
              "    <tr>\n",
              "      <th>0</th>\n",
              "      <td>(Marital_status_Single)</td>\n",
              "      <td>(Gender_Female)</td>\n",
              "      <td>0.411885</td>\n",
              "      <td>0.550820</td>\n",
              "      <td>0.231148</td>\n",
              "      <td>0.561194</td>\n",
              "      <td>1.018834</td>\n",
              "      <td>0.004273</td>\n",
              "      <td>1.023642</td>\n",
              "    </tr>\n",
              "    <tr>\n",
              "      <th>1</th>\n",
              "      <td>(Gender_Female)</td>\n",
              "      <td>(Marital_status_Single)</td>\n",
              "      <td>0.550820</td>\n",
              "      <td>0.411885</td>\n",
              "      <td>0.231148</td>\n",
              "      <td>0.419643</td>\n",
              "      <td>1.018834</td>\n",
              "      <td>0.004273</td>\n",
              "      <td>1.013367</td>\n",
              "    </tr>\n",
              "    <tr>\n",
              "      <th>2</th>\n",
              "      <td>(Payment_method_Card)</td>\n",
              "      <td>(Gender_Female)</td>\n",
              "      <td>0.300000</td>\n",
              "      <td>0.550820</td>\n",
              "      <td>0.175820</td>\n",
              "      <td>0.586066</td>\n",
              "      <td>1.063988</td>\n",
              "      <td>0.010574</td>\n",
              "      <td>1.085149</td>\n",
              "    </tr>\n",
              "    <tr>\n",
              "      <th>3</th>\n",
              "      <td>(Gender_Female)</td>\n",
              "      <td>(Payment_method_Card)</td>\n",
              "      <td>0.550820</td>\n",
              "      <td>0.300000</td>\n",
              "      <td>0.175820</td>\n",
              "      <td>0.319196</td>\n",
              "      <td>1.063988</td>\n",
              "      <td>0.010574</td>\n",
              "      <td>1.028197</td>\n",
              "    </tr>\n",
              "    <tr>\n",
              "      <th>4</th>\n",
              "      <td>(Gender_Female)</td>\n",
              "      <td>(Amount_spent_q1)</td>\n",
              "      <td>0.550820</td>\n",
              "      <td>0.250000</td>\n",
              "      <td>0.138934</td>\n",
              "      <td>0.252232</td>\n",
              "      <td>1.008929</td>\n",
              "      <td>0.001230</td>\n",
              "      <td>1.002985</td>\n",
              "    </tr>\n",
              "    <tr>\n",
              "      <th>5</th>\n",
              "      <td>(Amount_spent_q1)</td>\n",
              "      <td>(Gender_Female)</td>\n",
              "      <td>0.250000</td>\n",
              "      <td>0.550820</td>\n",
              "      <td>0.138934</td>\n",
              "      <td>0.555738</td>\n",
              "      <td>1.008929</td>\n",
              "      <td>0.001230</td>\n",
              "      <td>1.011070</td>\n",
              "    </tr>\n",
              "    <tr>\n",
              "      <th>6</th>\n",
              "      <td>(Gender_Female)</td>\n",
              "      <td>(Amount_spent_q4)</td>\n",
              "      <td>0.550820</td>\n",
              "      <td>0.250000</td>\n",
              "      <td>0.139344</td>\n",
              "      <td>0.252976</td>\n",
              "      <td>1.011905</td>\n",
              "      <td>0.001639</td>\n",
              "      <td>1.003984</td>\n",
              "    </tr>\n",
              "    <tr>\n",
              "      <th>7</th>\n",
              "      <td>(Amount_spent_q4)</td>\n",
              "      <td>(Gender_Female)</td>\n",
              "      <td>0.250000</td>\n",
              "      <td>0.550820</td>\n",
              "      <td>0.139344</td>\n",
              "      <td>0.557377</td>\n",
              "      <td>1.011905</td>\n",
              "      <td>0.001639</td>\n",
              "      <td>1.014815</td>\n",
              "    </tr>\n",
              "    <tr>\n",
              "      <th>8</th>\n",
              "      <td>(Gender_Male)</td>\n",
              "      <td>(Marital_status_Married)</td>\n",
              "      <td>0.449180</td>\n",
              "      <td>0.588115</td>\n",
              "      <td>0.268443</td>\n",
              "      <td>0.597628</td>\n",
              "      <td>1.016175</td>\n",
              "      <td>0.004273</td>\n",
              "      <td>1.023642</td>\n",
              "    </tr>\n",
              "    <tr>\n",
              "      <th>9</th>\n",
              "      <td>(Marital_status_Married)</td>\n",
              "      <td>(Gender_Male)</td>\n",
              "      <td>0.588115</td>\n",
              "      <td>0.449180</td>\n",
              "      <td>0.268443</td>\n",
              "      <td>0.456446</td>\n",
              "      <td>1.016175</td>\n",
              "      <td>0.004273</td>\n",
              "      <td>1.013367</td>\n",
              "    </tr>\n",
              "    <tr>\n",
              "      <th>10</th>\n",
              "      <td>(Gender_Male)</td>\n",
              "      <td>(Payment_method_Other)</td>\n",
              "      <td>0.449180</td>\n",
              "      <td>0.236885</td>\n",
              "      <td>0.110246</td>\n",
              "      <td>0.245438</td>\n",
              "      <td>1.036105</td>\n",
              "      <td>0.003842</td>\n",
              "      <td>1.011335</td>\n",
              "    </tr>\n",
              "    <tr>\n",
              "      <th>11</th>\n",
              "      <td>(Payment_method_Other)</td>\n",
              "      <td>(Gender_Male)</td>\n",
              "      <td>0.236885</td>\n",
              "      <td>0.449180</td>\n",
              "      <td>0.110246</td>\n",
              "      <td>0.465398</td>\n",
              "      <td>1.036105</td>\n",
              "      <td>0.003842</td>\n",
              "      <td>1.030336</td>\n",
              "    </tr>\n",
              "    <tr>\n",
              "      <th>12</th>\n",
              "      <td>(Gender_Male)</td>\n",
              "      <td>(Payment_method_PayPal)</td>\n",
              "      <td>0.449180</td>\n",
              "      <td>0.463115</td>\n",
              "      <td>0.214754</td>\n",
              "      <td>0.478102</td>\n",
              "      <td>1.032362</td>\n",
              "      <td>0.006732</td>\n",
              "      <td>1.028717</td>\n",
              "    </tr>\n",
              "    <tr>\n",
              "      <th>13</th>\n",
              "      <td>(Payment_method_PayPal)</td>\n",
              "      <td>(Gender_Male)</td>\n",
              "      <td>0.463115</td>\n",
              "      <td>0.449180</td>\n",
              "      <td>0.214754</td>\n",
              "      <td>0.463717</td>\n",
              "      <td>1.032362</td>\n",
              "      <td>0.006732</td>\n",
              "      <td>1.027106</td>\n",
              "    </tr>\n",
              "    <tr>\n",
              "      <th>14</th>\n",
              "      <td>(Gender_Male)</td>\n",
              "      <td>(Amount_spent_q2)</td>\n",
              "      <td>0.449180</td>\n",
              "      <td>0.339754</td>\n",
              "      <td>0.154508</td>\n",
              "      <td>0.343978</td>\n",
              "      <td>1.012433</td>\n",
              "      <td>0.001897</td>\n",
              "      <td>1.006439</td>\n",
              "    </tr>\n",
              "    <tr>\n",
              "      <th>15</th>\n",
              "      <td>(Amount_spent_q2)</td>\n",
              "      <td>(Gender_Male)</td>\n",
              "      <td>0.339754</td>\n",
              "      <td>0.449180</td>\n",
              "      <td>0.154508</td>\n",
              "      <td>0.454765</td>\n",
              "      <td>1.012433</td>\n",
              "      <td>0.001897</td>\n",
              "      <td>1.010242</td>\n",
              "    </tr>\n",
              "    <tr>\n",
              "      <th>16</th>\n",
              "      <td>(Payment_method_Card)</td>\n",
              "      <td>(Marital_status_Married)</td>\n",
              "      <td>0.300000</td>\n",
              "      <td>0.588115</td>\n",
              "      <td>0.176639</td>\n",
              "      <td>0.588798</td>\n",
              "      <td>1.001161</td>\n",
              "      <td>0.000205</td>\n",
              "      <td>1.001661</td>\n",
              "    </tr>\n",
              "    <tr>\n",
              "      <th>17</th>\n",
              "      <td>(Marital_status_Married)</td>\n",
              "      <td>(Payment_method_Card)</td>\n",
              "      <td>0.588115</td>\n",
              "      <td>0.300000</td>\n",
              "      <td>0.176639</td>\n",
              "      <td>0.300348</td>\n",
              "      <td>1.001161</td>\n",
              "      <td>0.000205</td>\n",
              "      <td>1.000498</td>\n",
              "    </tr>\n",
              "    <tr>\n",
              "      <th>18</th>\n",
              "      <td>(Marital_status_Married)</td>\n",
              "      <td>(Payment_method_Other)</td>\n",
              "      <td>0.588115</td>\n",
              "      <td>0.236885</td>\n",
              "      <td>0.143852</td>\n",
              "      <td>0.244599</td>\n",
              "      <td>1.032565</td>\n",
              "      <td>0.004537</td>\n",
              "      <td>1.010212</td>\n",
              "    </tr>\n",
              "    <tr>\n",
              "      <th>19</th>\n",
              "      <td>(Payment_method_Other)</td>\n",
              "      <td>(Marital_status_Married)</td>\n",
              "      <td>0.236885</td>\n",
              "      <td>0.588115</td>\n",
              "      <td>0.143852</td>\n",
              "      <td>0.607266</td>\n",
              "      <td>1.032565</td>\n",
              "      <td>0.004537</td>\n",
              "      <td>1.048765</td>\n",
              "    </tr>\n",
              "    <tr>\n",
              "      <th>20</th>\n",
              "      <td>(Marital_status_Married)</td>\n",
              "      <td>(Amount_spent_q2)</td>\n",
              "      <td>0.588115</td>\n",
              "      <td>0.339754</td>\n",
              "      <td>0.206557</td>\n",
              "      <td>0.351220</td>\n",
              "      <td>1.033746</td>\n",
              "      <td>0.006743</td>\n",
              "      <td>1.017672</td>\n",
              "    </tr>\n",
              "    <tr>\n",
              "      <th>21</th>\n",
              "      <td>(Amount_spent_q2)</td>\n",
              "      <td>(Marital_status_Married)</td>\n",
              "      <td>0.339754</td>\n",
              "      <td>0.588115</td>\n",
              "      <td>0.206557</td>\n",
              "      <td>0.607961</td>\n",
              "      <td>1.033746</td>\n",
              "      <td>0.006743</td>\n",
              "      <td>1.050624</td>\n",
              "    </tr>\n",
              "    <tr>\n",
              "      <th>22</th>\n",
              "      <td>(Marital_status_Married)</td>\n",
              "      <td>(Amount_spent_q4)</td>\n",
              "      <td>0.588115</td>\n",
              "      <td>0.250000</td>\n",
              "      <td>0.147951</td>\n",
              "      <td>0.251568</td>\n",
              "      <td>1.006272</td>\n",
              "      <td>0.000922</td>\n",
              "      <td>1.002095</td>\n",
              "    </tr>\n",
              "    <tr>\n",
              "      <th>23</th>\n",
              "      <td>(Amount_spent_q4)</td>\n",
              "      <td>(Marital_status_Married)</td>\n",
              "      <td>0.250000</td>\n",
              "      <td>0.588115</td>\n",
              "      <td>0.147951</td>\n",
              "      <td>0.591803</td>\n",
              "      <td>1.006272</td>\n",
              "      <td>0.000922</td>\n",
              "      <td>1.009036</td>\n",
              "    </tr>\n",
              "    <tr>\n",
              "      <th>24</th>\n",
              "      <td>(Marital_status_Single)</td>\n",
              "      <td>(Payment_method_PayPal)</td>\n",
              "      <td>0.411885</td>\n",
              "      <td>0.463115</td>\n",
              "      <td>0.195492</td>\n",
              "      <td>0.474627</td>\n",
              "      <td>1.024858</td>\n",
              "      <td>0.004742</td>\n",
              "      <td>1.021912</td>\n",
              "    </tr>\n",
              "    <tr>\n",
              "      <th>25</th>\n",
              "      <td>(Payment_method_PayPal)</td>\n",
              "      <td>(Marital_status_Single)</td>\n",
              "      <td>0.463115</td>\n",
              "      <td>0.411885</td>\n",
              "      <td>0.195492</td>\n",
              "      <td>0.422124</td>\n",
              "      <td>1.024858</td>\n",
              "      <td>0.004742</td>\n",
              "      <td>1.017718</td>\n",
              "    </tr>\n",
              "    <tr>\n",
              "      <th>26</th>\n",
              "      <td>(Marital_status_Single)</td>\n",
              "      <td>(Amount_spent_q1)</td>\n",
              "      <td>0.411885</td>\n",
              "      <td>0.250000</td>\n",
              "      <td>0.103279</td>\n",
              "      <td>0.250746</td>\n",
              "      <td>1.002985</td>\n",
              "      <td>0.000307</td>\n",
              "      <td>1.000996</td>\n",
              "    </tr>\n",
              "    <tr>\n",
              "      <th>27</th>\n",
              "      <td>(Amount_spent_q1)</td>\n",
              "      <td>(Marital_status_Single)</td>\n",
              "      <td>0.250000</td>\n",
              "      <td>0.411885</td>\n",
              "      <td>0.103279</td>\n",
              "      <td>0.413115</td>\n",
              "      <td>1.002985</td>\n",
              "      <td>0.000307</td>\n",
              "      <td>1.002095</td>\n",
              "    </tr>\n",
              "    <tr>\n",
              "      <th>28</th>\n",
              "      <td>(Payment_method_Card)</td>\n",
              "      <td>(Amount_spent_q2)</td>\n",
              "      <td>0.300000</td>\n",
              "      <td>0.339754</td>\n",
              "      <td>0.102049</td>\n",
              "      <td>0.340164</td>\n",
              "      <td>1.001206</td>\n",
              "      <td>0.000123</td>\n",
              "      <td>1.000621</td>\n",
              "    </tr>\n",
              "    <tr>\n",
              "      <th>29</th>\n",
              "      <td>(Amount_spent_q2)</td>\n",
              "      <td>(Payment_method_Card)</td>\n",
              "      <td>0.339754</td>\n",
              "      <td>0.300000</td>\n",
              "      <td>0.102049</td>\n",
              "      <td>0.300362</td>\n",
              "      <td>1.001206</td>\n",
              "      <td>0.000123</td>\n",
              "      <td>1.000517</td>\n",
              "    </tr>\n",
              "    <tr>\n",
              "      <th>30</th>\n",
              "      <td>(Amount_spent_q1)</td>\n",
              "      <td>(Payment_method_PayPal)</td>\n",
              "      <td>0.250000</td>\n",
              "      <td>0.463115</td>\n",
              "      <td>0.115984</td>\n",
              "      <td>0.463934</td>\n",
              "      <td>1.001770</td>\n",
              "      <td>0.000205</td>\n",
              "      <td>1.001529</td>\n",
              "    </tr>\n",
              "    <tr>\n",
              "      <th>31</th>\n",
              "      <td>(Payment_method_PayPal)</td>\n",
              "      <td>(Amount_spent_q1)</td>\n",
              "      <td>0.463115</td>\n",
              "      <td>0.250000</td>\n",
              "      <td>0.115984</td>\n",
              "      <td>0.250442</td>\n",
              "      <td>1.001770</td>\n",
              "      <td>0.000205</td>\n",
              "      <td>1.000590</td>\n",
              "    </tr>\n",
              "    <tr>\n",
              "      <th>32</th>\n",
              "      <td>(Amount_spent_q2)</td>\n",
              "      <td>(Payment_method_PayPal)</td>\n",
              "      <td>0.339754</td>\n",
              "      <td>0.463115</td>\n",
              "      <td>0.160246</td>\n",
              "      <td>0.471653</td>\n",
              "      <td>1.018436</td>\n",
              "      <td>0.002901</td>\n",
              "      <td>1.016160</td>\n",
              "    </tr>\n",
              "    <tr>\n",
              "      <th>33</th>\n",
              "      <td>(Payment_method_PayPal)</td>\n",
              "      <td>(Amount_spent_q2)</td>\n",
              "      <td>0.463115</td>\n",
              "      <td>0.339754</td>\n",
              "      <td>0.160246</td>\n",
              "      <td>0.346018</td>\n",
              "      <td>1.018436</td>\n",
              "      <td>0.002901</td>\n",
              "      <td>1.009578</td>\n",
              "    </tr>\n",
              "    <tr>\n",
              "      <th>34</th>\n",
              "      <td>(Gender_Female, Amount_spent_q2)</td>\n",
              "      <td>(Marital_status_Married)</td>\n",
              "      <td>0.185246</td>\n",
              "      <td>0.588115</td>\n",
              "      <td>0.111885</td>\n",
              "      <td>0.603982</td>\n",
              "      <td>1.026980</td>\n",
              "      <td>0.002939</td>\n",
              "      <td>1.040068</td>\n",
              "    </tr>\n",
              "    <tr>\n",
              "      <th>35</th>\n",
              "      <td>(Gender_Female, Marital_status_Married)</td>\n",
              "      <td>(Amount_spent_q2)</td>\n",
              "      <td>0.319672</td>\n",
              "      <td>0.339754</td>\n",
              "      <td>0.111885</td>\n",
              "      <td>0.350000</td>\n",
              "      <td>1.030157</td>\n",
              "      <td>0.003275</td>\n",
              "      <td>1.015763</td>\n",
              "    </tr>\n",
              "    <tr>\n",
              "      <th>36</th>\n",
              "      <td>(Amount_spent_q2)</td>\n",
              "      <td>(Gender_Female, Marital_status_Married)</td>\n",
              "      <td>0.339754</td>\n",
              "      <td>0.319672</td>\n",
              "      <td>0.111885</td>\n",
              "      <td>0.329312</td>\n",
              "      <td>1.030157</td>\n",
              "      <td>0.003275</td>\n",
              "      <td>1.014374</td>\n",
              "    </tr>\n",
              "    <tr>\n",
              "      <th>37</th>\n",
              "      <td>(Marital_status_Married)</td>\n",
              "      <td>(Gender_Female, Amount_spent_q2)</td>\n",
              "      <td>0.588115</td>\n",
              "      <td>0.185246</td>\n",
              "      <td>0.111885</td>\n",
              "      <td>0.190244</td>\n",
              "      <td>1.026980</td>\n",
              "      <td>0.002939</td>\n",
              "      <td>1.006172</td>\n",
              "    </tr>\n",
              "    <tr>\n",
              "      <th>38</th>\n",
              "      <td>(Gender_Female, Payment_method_PayPal)</td>\n",
              "      <td>(Marital_status_Single)</td>\n",
              "      <td>0.248361</td>\n",
              "      <td>0.411885</td>\n",
              "      <td>0.102459</td>\n",
              "      <td>0.412541</td>\n",
              "      <td>1.001593</td>\n",
              "      <td>0.000163</td>\n",
              "      <td>1.001117</td>\n",
              "    </tr>\n",
              "    <tr>\n",
              "      <th>39</th>\n",
              "      <td>(Marital_status_Single)</td>\n",
              "      <td>(Gender_Female, Payment_method_PayPal)</td>\n",
              "      <td>0.411885</td>\n",
              "      <td>0.248361</td>\n",
              "      <td>0.102459</td>\n",
              "      <td>0.248756</td>\n",
              "      <td>1.001593</td>\n",
              "      <td>0.000163</td>\n",
              "      <td>1.000527</td>\n",
              "    </tr>\n",
              "    <tr>\n",
              "      <th>40</th>\n",
              "      <td>(Marital_status_Married, Payment_method_PayPal)</td>\n",
              "      <td>(Gender_Male)</td>\n",
              "      <td>0.267623</td>\n",
              "      <td>0.449180</td>\n",
              "      <td>0.121721</td>\n",
              "      <td>0.454824</td>\n",
              "      <td>1.012564</td>\n",
              "      <td>0.001510</td>\n",
              "      <td>1.010352</td>\n",
              "    </tr>\n",
              "    <tr>\n",
              "      <th>41</th>\n",
              "      <td>(Gender_Male)</td>\n",
              "      <td>(Marital_status_Married, Payment_method_PayPal)</td>\n",
              "      <td>0.449180</td>\n",
              "      <td>0.267623</td>\n",
              "      <td>0.121721</td>\n",
              "      <td>0.270985</td>\n",
              "      <td>1.012564</td>\n",
              "      <td>0.001510</td>\n",
              "      <td>1.004612</td>\n",
              "    </tr>\n",
              "  </tbody>\n",
              "</table>\n",
              "</div>\n",
              "      <button class=\"colab-df-convert\" onclick=\"convertToInteractive('df-cb9f66e2-8449-493f-8b50-54e1a4ed7f16')\"\n",
              "              title=\"Convert this dataframe to an interactive table.\"\n",
              "              style=\"display:none;\">\n",
              "        \n",
              "  <svg xmlns=\"http://www.w3.org/2000/svg\" height=\"24px\"viewBox=\"0 0 24 24\"\n",
              "       width=\"24px\">\n",
              "    <path d=\"M0 0h24v24H0V0z\" fill=\"none\"/>\n",
              "    <path d=\"M18.56 5.44l.94 2.06.94-2.06 2.06-.94-2.06-.94-.94-2.06-.94 2.06-2.06.94zm-11 1L8.5 8.5l.94-2.06 2.06-.94-2.06-.94L8.5 2.5l-.94 2.06-2.06.94zm10 10l.94 2.06.94-2.06 2.06-.94-2.06-.94-.94-2.06-.94 2.06-2.06.94z\"/><path d=\"M17.41 7.96l-1.37-1.37c-.4-.4-.92-.59-1.43-.59-.52 0-1.04.2-1.43.59L10.3 9.45l-7.72 7.72c-.78.78-.78 2.05 0 2.83L4 21.41c.39.39.9.59 1.41.59.51 0 1.02-.2 1.41-.59l7.78-7.78 2.81-2.81c.8-.78.8-2.07 0-2.86zM5.41 20L4 18.59l7.72-7.72 1.47 1.35L5.41 20z\"/>\n",
              "  </svg>\n",
              "      </button>\n",
              "      \n",
              "  <style>\n",
              "    .colab-df-container {\n",
              "      display:flex;\n",
              "      flex-wrap:wrap;\n",
              "      gap: 12px;\n",
              "    }\n",
              "\n",
              "    .colab-df-convert {\n",
              "      background-color: #E8F0FE;\n",
              "      border: none;\n",
              "      border-radius: 50%;\n",
              "      cursor: pointer;\n",
              "      display: none;\n",
              "      fill: #1967D2;\n",
              "      height: 32px;\n",
              "      padding: 0 0 0 0;\n",
              "      width: 32px;\n",
              "    }\n",
              "\n",
              "    .colab-df-convert:hover {\n",
              "      background-color: #E2EBFA;\n",
              "      box-shadow: 0px 1px 2px rgba(60, 64, 67, 0.3), 0px 1px 3px 1px rgba(60, 64, 67, 0.15);\n",
              "      fill: #174EA6;\n",
              "    }\n",
              "\n",
              "    [theme=dark] .colab-df-convert {\n",
              "      background-color: #3B4455;\n",
              "      fill: #D2E3FC;\n",
              "    }\n",
              "\n",
              "    [theme=dark] .colab-df-convert:hover {\n",
              "      background-color: #434B5C;\n",
              "      box-shadow: 0px 1px 3px 1px rgba(0, 0, 0, 0.15);\n",
              "      filter: drop-shadow(0px 1px 2px rgba(0, 0, 0, 0.3));\n",
              "      fill: #FFFFFF;\n",
              "    }\n",
              "  </style>\n",
              "\n",
              "      <script>\n",
              "        const buttonEl =\n",
              "          document.querySelector('#df-cb9f66e2-8449-493f-8b50-54e1a4ed7f16 button.colab-df-convert');\n",
              "        buttonEl.style.display =\n",
              "          google.colab.kernel.accessAllowed ? 'block' : 'none';\n",
              "\n",
              "        async function convertToInteractive(key) {\n",
              "          const element = document.querySelector('#df-cb9f66e2-8449-493f-8b50-54e1a4ed7f16');\n",
              "          const dataTable =\n",
              "            await google.colab.kernel.invokeFunction('convertToInteractive',\n",
              "                                                     [key], {});\n",
              "          if (!dataTable) return;\n",
              "\n",
              "          const docLinkHtml = 'Like what you see? Visit the ' +\n",
              "            '<a target=\"_blank\" href=https://colab.research.google.com/notebooks/data_table.ipynb>data table notebook</a>'\n",
              "            + ' to learn more about interactive tables.';\n",
              "          element.innerHTML = '';\n",
              "          dataTable['output_type'] = 'display_data';\n",
              "          await google.colab.output.renderOutput(dataTable, element);\n",
              "          const docLink = document.createElement('div');\n",
              "          docLink.innerHTML = docLinkHtml;\n",
              "          element.appendChild(docLink);\n",
              "        }\n",
              "      </script>\n",
              "    </div>\n",
              "  </div>\n",
              "  "
            ]
          },
          "metadata": {},
          "execution_count": 27
        }
      ]
    },
    {
      "cell_type": "markdown",
      "source": [
        "# 6. Phase 3: Clustering and Classification"
      ],
      "metadata": {
        "id": "_3CMwFp6Hr6j"
      }
    },
    {
      "cell_type": "markdown",
      "source": [
        "## 6.1 Clustering"
      ],
      "metadata": {
        "id": "K9a46lpiHvvk"
      }
    },
    {
      "cell_type": "markdown",
      "source": [
        "### 6.1.1 Clustering Algorithms\n",
        "\n",
        "we use the columns that specify for frequent patterns. the clusterings are done by kmeans with k = 3 and dbscan algorithms. the expriments are shown that the kmeans has better accuracy"
      ],
      "metadata": {
        "id": "2J81ZlL-HyID"
      }
    },
    {
      "cell_type": "code",
      "source": [
        "import pandas as pd\n",
        "import matplotlib.pyplot as plt\n",
        "from mpl_toolkits.mplot3d import Axes3D\n",
        "from sklearn.cluster import KMeans, DBSCAN\n",
        "from sklearn.decomposition import PCA\n",
        "from sklearn.preprocessing import StandardScaler\n",
        "\n",
        "\n",
        "selected_columns = ['Gender', 'Marital_status', 'State_names', 'Payment_method', 'Amount_spent_n']\n",
        "df_selected = df[selected_columns]\n",
        "\n",
        "df_encoded = pd.get_dummies(df_selected, columns=['Gender', 'Marital_status', 'State_names', 'Payment_method'])\n",
        "print(df_encoded.columns)\n",
        "scaler = StandardScaler()\n",
        "scaled_data = scaler.fit_transform(df_encoded)\n",
        "\n",
        "kmeans = KMeans(n_clusters=3, random_state=42)\n",
        "kmeans_labels = kmeans.fit_predict(scaled_data)\n",
        "\n",
        "dbscan = DBSCAN(eps=0.8, min_samples=5)\n",
        "dbscan_labels = dbscan.fit_predict(scaled_data)\n",
        "\n",
        "pca_2d = PCA(n_components=2)\n",
        "pca_2d_result = pca_2d.fit_transform(scaled_data)\n",
        "\n",
        "pca_3d = PCA(n_components=3)\n",
        "pca_3d_result = pca_3d.fit_transform(scaled_data)"
      ],
      "metadata": {
        "colab": {
          "base_uri": "https://localhost:8080/"
        },
        "id": "2C7hsLjz4j-l",
        "outputId": "cd623da0-3bd2-4dbb-ca71-9228ec6e7e97"
      },
      "execution_count": 49,
      "outputs": [
        {
          "output_type": "stream",
          "name": "stdout",
          "text": [
            "Index(['Amount_spent_n', 'Gender_Female', 'Gender_Male',\n",
            "       'Marital_status_Married', 'Marital_status_Single',\n",
            "       'State_names_Alabama', 'State_names_Alaska', 'State_names_Arizona',\n",
            "       'State_names_Arkansas', 'State_names_California',\n",
            "       'State_names_Colorado', 'State_names_Connecticut',\n",
            "       'State_names_Delaware', 'State_names_Florida', 'State_names_Georgia',\n",
            "       'State_names_Hawaii', 'State_names_Idaho', 'State_names_Illinois',\n",
            "       'State_names_Indiana', 'State_names_Iowa', 'State_names_Kansas',\n",
            "       'State_names_Kentucky', 'State_names_Louisiana', 'State_names_Maine',\n",
            "       'State_names_Maryland', 'State_names_Massachusetts',\n",
            "       'State_names_Michigan', 'State_names_Minnesota',\n",
            "       'State_names_Mississippi', 'State_names_Missouri',\n",
            "       'State_names_Montana', 'State_names_Nebraska', 'State_names_Nevada',\n",
            "       'State_names_New Hampshire', 'State_names_New Jersey',\n",
            "       'State_names_New Mexico', 'State_names_New York',\n",
            "       'State_names_North Carolina', 'State_names_North Dakota',\n",
            "       'State_names_Ohio', 'State_names_Oklahoma', 'State_names_Oregon',\n",
            "       'State_names_Pennsylvania', 'State_names_Rhode Island',\n",
            "       'State_names_South Carolina', 'State_names_South Dakota',\n",
            "       'State_names_Tennessee', 'State_names_Texas', 'State_names_Utah',\n",
            "       'State_names_Vermont', 'State_names_Virginia', 'State_names_Washington',\n",
            "       'State_names_West Virginia', 'State_names_Wisconsin',\n",
            "       'State_names_Wyoming', 'Payment_method_Card', 'Payment_method_Other',\n",
            "       'Payment_method_PayPal'],\n",
            "      dtype='object')\n"
          ]
        },
        {
          "output_type": "stream",
          "name": "stderr",
          "text": [
            "/usr/local/lib/python3.10/dist-packages/sklearn/cluster/_kmeans.py:870: FutureWarning: The default value of `n_init` will change from 10 to 'auto' in 1.4. Set the value of `n_init` explicitly to suppress the warning\n",
            "  warnings.warn(\n"
          ]
        }
      ]
    },
    {
      "cell_type": "markdown",
      "source": [
        "### 6.1.1 Clustering Results With PCA\n",
        "\n",
        "for better visualization we make use of dimentionality reduction methods (we use PCA) and plot the 2d and 3d space of our clustering result. the visulization may be inaccurate due to dimetionality reduction"
      ],
      "metadata": {
        "id": "8DHf_RMkIRjT"
      }
    },
    {
      "cell_type": "code",
      "source": [
        "plt.scatter(pca_2d_result[:, 0], pca_2d_result[:, 1], c=kmeans_labels)\n",
        "plt.title('KMeans Clustering - 2D PCA')\n",
        "plt.xlabel('PCA Component 1')\n",
        "plt.ylabel('PCA Component 2')\n",
        "plt.show()"
      ],
      "metadata": {
        "colab": {
          "base_uri": "https://localhost:8080/",
          "height": 472
        },
        "id": "_TG5FI5z6E4R",
        "outputId": "1c474d8d-32df-4e40-9e5f-7f2a2ab1d4ce"
      },
      "execution_count": 38,
      "outputs": [
        {
          "output_type": "display_data",
          "data": {
            "text/plain": [
              "<Figure size 640x480 with 1 Axes>"
            ],
            "image/png": "[encoded data removed]"
          },
          "metadata": {}
        }
      ]
    },
    {
      "cell_type": "code",
      "source": [
        "fig = plt.figure()\n",
        "ax = fig.add_subplot(111, projection='3d')\n",
        "ax.scatter(pca_3d_result[:, 0], pca_3d_result[:, 1], pca_3d_result[:, 2], c=kmeans_labels)\n",
        "ax.set_title('KMeans Clustering - 3D PCA')\n",
        "ax.set_xlabel('PCA Component 1')\n",
        "ax.set_ylabel('PCA Component 2')\n",
        "ax.set_zlabel('PCA Component 3')\n",
        "plt.show()"
      ],
      "metadata": {
        "colab": {
          "base_uri": "https://localhost:8080/",
          "height": 431
        },
        "id": "BdObYt9f6LJh",
        "outputId": "9d527007-8b45-41b5-8649-14672b861876"
      },
      "execution_count": 39,
      "outputs": [
        {
          "output_type": "display_data",
          "data": {
            "text/plain": [
              "<Figure size 640x480 with 1 Axes>"
            ],
            "image/png": "[encoded data removed]"
          },
          "metadata": {}
        }
      ]
    },
    {
      "cell_type": "code",
      "source": [
        "plt.scatter(pca_2d_result[:, 0], pca_2d_result[:, 1], c=dbscan_labels)\n",
        "plt.title('DBSCAN Clustering - 2D PCA')\n",
        "plt.xlabel('PCA Component 1')\n",
        "plt.ylabel('PCA Component 2')\n",
        "plt.show()"
      ],
      "metadata": {
        "colab": {
          "base_uri": "https://localhost:8080/",
          "height": 472
        },
        "id": "vtkPmpTz6SOW",
        "outputId": "891ef761-3a66-4cd0-8af0-ae6aefce3217"
      },
      "execution_count": 50,
      "outputs": [
        {
          "output_type": "display_data",
          "data": {
            "text/plain": [
              "<Figure size 640x480 with 1 Axes>"
            ],
            "image/png": "[encoded data removed]"
          },
          "metadata": {}
        }
      ]
    },
    {
      "cell_type": "code",
      "source": [
        "fig = plt.figure()\n",
        "ax = fig.add_subplot(111, projection='3d')\n",
        "ax.scatter(pca_3d_result[:, 0], pca_3d_result[:, 1], pca_3d_result[:, 2], c=dbscan_labels)\n",
        "ax.set_title('DBSCAN Clustering - 3D PCA')\n",
        "ax.set_xlabel('PCA Component 1')\n",
        "ax.set_ylabel('PCA Component 2')\n",
        "ax.set_zlabel('PCA Component 3')\n",
        "plt.show()"
      ],
      "metadata": {
        "colab": {
          "base_uri": "https://localhost:8080/",
          "height": 431
        },
        "id": "1FQJXVVR6XWN",
        "outputId": "0d5a9aaf-73ea-40cb-e18b-aed5f4f92b5c"
      },
      "execution_count": 51,
      "outputs": [
        {
          "output_type": "display_data",
          "data": {
            "text/plain": [
              "<Figure size 640x480 with 1 Axes>"
            ],
            "image/png": "[encoded data removed]"
          },
          "metadata": {}
        }
      ]
    },
    {
      "cell_type": "markdown",
      "source": [
        "## 6.2 Classification\n",
        "\n",
        "we classify the label of segment for each customer by their referal flag and amount spent. we use normalized amount spent values to avoid gradient exploiding issues."
      ],
      "metadata": {
        "id": "m6WG2aG_Iqcx"
      }
    },
    {
      "cell_type": "markdown",
      "source": [
        "### 6.2.2 Split train and test data"
      ],
      "metadata": {
        "id": "3I9AfP1MJK0U"
      }
    },
    {
      "cell_type": "code",
      "source": [
        "from sklearn.model_selection import train_test_split\n",
        "from sklearn.tree import DecisionTreeClassifier\n",
        "from sklearn.ensemble import RandomForestClassifier\n",
        "from sklearn.naive_bayes import GaussianNB\n",
        "from sklearn.metrics import classification_report, roc_curve, auc\n",
        "from sklearn.metrics import confusion_matrix, ConfusionMatrixDisplay\n",
        "\n",
        "selected_columns = ['Referal', 'Amount_spent', 'Segment']\n",
        "df_selected = df[selected_columns]\n",
        "\n",
        "df_selected['Segment'] = pd.Categorical(df_selected['Segment'])\n",
        "df_selected['Segment_encoded'] = df_selected['Segment'].cat.codes\n",
        "\n",
        "X = df_selected[['Referal', 'Amount_spent']]\n",
        "y = df_selected['Segment_encoded']\n",
        "print(y)\n",
        "X_train, X_test, y_train, y_test = train_test_split(X, y, test_size=0.2, random_state=42)\n",
        "\n"
      ],
      "metadata": {
        "colab": {
          "base_uri": "https://localhost:8080/"
        },
        "id": "CO5C3ns0-Elo",
        "outputId": "cf38c3a3-1c8f-41c2-93a0-a5e5027fe414"
      },
      "execution_count": 90,
      "outputs": [
        {
          "output_type": "stream",
          "name": "stdout",
          "text": [
            "0       0\n",
            "1       0\n",
            "2       0\n",
            "3       3\n",
            "4       0\n",
            "       ..\n",
            "2507    3\n",
            "2508    4\n",
            "2509    0\n",
            "2510    0\n",
            "2511    4\n",
            "Name: Segment_encoded, Length: 2440, dtype: int8\n"
          ]
        },
        {
          "output_type": "stream",
          "name": "stderr",
          "text": [
            "<ipython-input-90-0a44efb936dc>:14: SettingWithCopyWarning: \n",
            "A value is trying to be set on a copy of a slice from a DataFrame.\n",
            "Try using .loc[row_indexer,col_indexer] = value instead\n",
            "\n",
            "See the caveats in the documentation: https://pandas.pydata.org/pandas-docs/stable/user_guide/indexing.html#returning-a-view-versus-a-copy\n",
            "  df_selected['Segment'] = pd.Categorical(df_selected['Segment'])\n",
            "<ipython-input-90-0a44efb936dc>:15: SettingWithCopyWarning: \n",
            "A value is trying to be set on a copy of a slice from a DataFrame.\n",
            "Try using .loc[row_indexer,col_indexer] = value instead\n",
            "\n",
            "See the caveats in the documentation: https://pandas.pydata.org/pandas-docs/stable/user_guide/indexing.html#returning-a-view-versus-a-copy\n",
            "  df_selected['Segment_encoded'] = df_selected['Segment'].cat.codes\n"
          ]
        }
      ]
    },
    {
      "cell_type": "markdown",
      "source": [
        "### 6.2.3 Classification usin Decision Tree"
      ],
      "metadata": {
        "id": "0kNcYRW1JSVH"
      }
    },
    {
      "cell_type": "code",
      "source": [
        "dt_clf = DecisionTreeClassifier()\n",
        "dt_clf.fit(X_train, y_train)\n",
        "dt_y_pred = dt_clf.predict(X_test)\n",
        "\n",
        "print(classification_report(y_test, dt_y_pred))\n"
      ],
      "metadata": {
        "colab": {
          "base_uri": "https://localhost:8080/"
        },
        "id": "GV4Gs-FgAqHf",
        "outputId": "fd8d3ef4-43a8-45c4-ee02-dbef51f27f6d"
      },
      "execution_count": 91,
      "outputs": [
        {
          "output_type": "stream",
          "name": "stdout",
          "text": [
            "              precision    recall  f1-score   support\n",
            "\n",
            "           0       0.44      0.50      0.47       224\n",
            "           1       0.16      0.10      0.13        48\n",
            "           2       0.15      0.12      0.13        41\n",
            "           3       0.15      0.15      0.15        81\n",
            "           4       0.13      0.13      0.13        94\n",
            "\n",
            "    accuracy                           0.30       488\n",
            "   macro avg       0.21      0.20      0.20       488\n",
            "weighted avg       0.28      0.30      0.29       488\n",
            "\n"
          ]
        }
      ]
    },
    {
      "cell_type": "code",
      "source": [
        "from sklearn.metrics import accuracy_score\n",
        "\n",
        "print(accuracy_score(y_test, dt_y_pred))"
      ],
      "metadata": {
        "colab": {
          "base_uri": "https://localhost:8080/"
        },
        "id": "tu5FAg0TCybM",
        "outputId": "5cd1aac7-e6db-4745-f2a7-292226d95820"
      },
      "execution_count": 92,
      "outputs": [
        {
          "output_type": "stream",
          "name": "stdout",
          "text": [
            "0.3012295081967213\n"
          ]
        }
      ]
    },
    {
      "cell_type": "code",
      "source": [
        "cm = confusion_matrix(y_test, dt_y_pred, labels=dt_clf.classes_)\n",
        "disp = ConfusionMatrixDisplay(confusion_matrix=cm,\n",
        "                              display_labels=dt_clf.classes_)\n",
        "disp.plot()"
      ],
      "metadata": {
        "colab": {
          "base_uri": "https://localhost:8080/",
          "height": 467
        },
        "id": "uxLaml5oAxQ-",
        "outputId": "6071a6c3-9d05-4256-8604-8005994a91a4"
      },
      "execution_count": 93,
      "outputs": [
        {
          "output_type": "execute_result",
          "data": {
            "text/plain": [
              "<sklearn.metrics._plot.confusion_matrix.ConfusionMatrixDisplay at 0x7fb61e64e0e0>"
            ]
          },
          "metadata": {},
          "execution_count": 93
        },
        {
          "output_type": "display_data",
          "data": {
            "text/plain": [
              "<Figure size 640x480 with 2 Axes>"
            ],
            "image/png": "[encoded data removed]"
          },
          "metadata": {}
        }
      ]
    },
    {
      "cell_type": "markdown",
      "source": [
        "### 6.2.4 Classification usin Random Forest"
      ],
      "metadata": {
        "id": "FzijeFAHJhsL"
      }
    },
    {
      "cell_type": "code",
      "source": [
        "rf_clf = RandomForestClassifier()\n",
        "rf_clf.fit(X_train, y_train)\n",
        "rf_y_pred = rf_clf.predict(X_test)\n",
        "rf_report = classification_report(y_test, rf_y_pred)\n",
        "print(rf_report)"
      ],
      "metadata": {
        "colab": {
          "base_uri": "https://localhost:8080/"
        },
        "id": "yNYuONS5C5XG",
        "outputId": "a6b6cba3-ca0f-4a87-9398-df28c4d185ee"
      },
      "execution_count": 94,
      "outputs": [
        {
          "output_type": "stream",
          "name": "stdout",
          "text": [
            "              precision    recall  f1-score   support\n",
            "\n",
            "           0       0.44      0.49      0.46       224\n",
            "           1       0.12      0.08      0.10        48\n",
            "           2       0.17      0.12      0.14        41\n",
            "           3       0.15      0.15      0.15        81\n",
            "           4       0.11      0.12      0.12        94\n",
            "\n",
            "    accuracy                           0.29       488\n",
            "   macro avg       0.20      0.19      0.19       488\n",
            "weighted avg       0.27      0.29      0.28       488\n",
            "\n"
          ]
        }
      ]
    },
    {
      "cell_type": "code",
      "source": [
        "print(accuracy_score(y_test, rf_y_pred))"
      ],
      "metadata": {
        "colab": {
          "base_uri": "https://localhost:8080/"
        },
        "id": "YX2_Dmx9DBSc",
        "outputId": "d9b1072b-b821-45e1-8e31-e05949e2f0ab"
      },
      "execution_count": 95,
      "outputs": [
        {
          "output_type": "stream",
          "name": "stdout",
          "text": [
            "0.2889344262295082\n"
          ]
        }
      ]
    },
    {
      "cell_type": "code",
      "source": [
        "cm = confusion_matrix(y_test, rf_y_pred, labels=rf_clf.classes_)\n",
        "disp = ConfusionMatrixDisplay(confusion_matrix=cm,\n",
        "                              display_labels=rf_clf.classes_)\n",
        "disp.plot()"
      ],
      "metadata": {
        "colab": {
          "base_uri": "https://localhost:8080/",
          "height": 467
        },
        "id": "DKJQVErfDJkr",
        "outputId": "8cfd039f-9818-4cf4-9ce2-82906b8ed1aa"
      },
      "execution_count": 96,
      "outputs": [
        {
          "output_type": "execute_result",
          "data": {
            "text/plain": [
              "<sklearn.metrics._plot.confusion_matrix.ConfusionMatrixDisplay at 0x7fb61c5fff70>"
            ]
          },
          "metadata": {},
          "execution_count": 96
        },
        {
          "output_type": "display_data",
          "data": {
            "text/plain": [
              "<Figure size 640x480 with 2 Axes>"
            ],
            "image/png": "[encoded data removed]"
          },
          "metadata": {}
        }
      ]
    },
    {
      "cell_type": "markdown",
      "source": [
        "### 6.2.5 Classification usin Naive Bayes"
      ],
      "metadata": {
        "id": "bDMzmBDBJmiN"
      }
    },
    {
      "cell_type": "code",
      "source": [
        "nb_clf = GaussianNB()\n",
        "nb_clf.fit(X_train, y_train)\n",
        "nb_y_pred = nb_clf.predict(X_test)\n",
        "nb_report = classification_report(y_test, nb_y_pred)\n",
        "print(nb_report)"
      ],
      "metadata": {
        "colab": {
          "base_uri": "https://localhost:8080/"
        },
        "id": "nlJFRQYHDPAt",
        "outputId": "3f497455-41eb-4e56-d4be-e3c794998b11"
      },
      "execution_count": 97,
      "outputs": [
        {
          "output_type": "stream",
          "name": "stdout",
          "text": [
            "              precision    recall  f1-score   support\n",
            "\n",
            "           0       0.46      1.00      0.63       224\n",
            "           1       0.00      0.00      0.00        48\n",
            "           2       0.00      0.00      0.00        41\n",
            "           3       0.00      0.00      0.00        81\n",
            "           4       0.00      0.00      0.00        94\n",
            "\n",
            "    accuracy                           0.46       488\n",
            "   macro avg       0.09      0.20      0.13       488\n",
            "weighted avg       0.21      0.46      0.29       488\n",
            "\n"
          ]
        },
        {
          "output_type": "stream",
          "name": "stderr",
          "text": [
            "/usr/local/lib/python3.10/dist-packages/sklearn/metrics/_classification.py:1344: UndefinedMetricWarning: Precision and F-score are ill-defined and being set to 0.0 in labels with no predicted samples. Use `zero_division` parameter to control this behavior.\n",
            "  _warn_prf(average, modifier, msg_start, len(result))\n",
            "/usr/local/lib/python3.10/dist-packages/sklearn/metrics/_classification.py:1344: UndefinedMetricWarning: Precision and F-score are ill-defined and being set to 0.0 in labels with no predicted samples. Use `zero_division` parameter to control this behavior.\n",
            "  _warn_prf(average, modifier, msg_start, len(result))\n",
            "/usr/local/lib/python3.10/dist-packages/sklearn/metrics/_classification.py:1344: UndefinedMetricWarning: Precision and F-score are ill-defined and being set to 0.0 in labels with no predicted samples. Use `zero_division` parameter to control this behavior.\n",
            "  _warn_prf(average, modifier, msg_start, len(result))\n"
          ]
        }
      ]
    },
    {
      "cell_type": "code",
      "source": [
        "print(accuracy_score(y_test, nb_y_pred))"
      ],
      "metadata": {
        "colab": {
          "base_uri": "https://localhost:8080/"
        },
        "id": "XfPpmD8ADY7w",
        "outputId": "195ca2fb-66c9-416c-eeb8-3cb752407b49"
      },
      "execution_count": 98,
      "outputs": [
        {
          "output_type": "stream",
          "name": "stdout",
          "text": [
            "0.45901639344262296\n"
          ]
        }
      ]
    },
    {
      "cell_type": "code",
      "source": [
        "cm = confusion_matrix(y_test, nb_y_pred, labels=nb_clf.classes_)\n",
        "disp = ConfusionMatrixDisplay(confusion_matrix=cm,\n",
        "                              display_labels=nb_clf.classes_)\n",
        "disp.plot()"
      ],
      "metadata": {
        "colab": {
          "base_uri": "https://localhost:8080/",
          "height": 467
        },
        "id": "rJoXgLEEDcdV",
        "outputId": "56cd250e-2c30-4016-ac91-f89f2eabf1fe"
      },
      "execution_count": 99,
      "outputs": [
        {
          "output_type": "execute_result",
          "data": {
            "text/plain": [
              "<sklearn.metrics._plot.confusion_matrix.ConfusionMatrixDisplay at 0x7fb61c17f460>"
            ]
          },
          "metadata": {},
          "execution_count": 99
        },
        {
          "output_type": "display_data",
          "data": {
            "text/plain": [
              "<Figure size 640x480 with 2 Axes>"
            ],
            "image/png": "[encoded data removed]"
          },
          "metadata": {}
        }
      ]
    },
    {
      "cell_type": "markdown",
      "source": [
        "### 6.2.6 Classification usin SVM"
      ],
      "metadata": {
        "id": "BgvNm8mbJp_b"
      }
    },
    {
      "cell_type": "code",
      "source": [
        "from sklearn.svm import SVC\n",
        "svm_clf = SVC(probability=True)\n",
        "svm_clf.fit(X_train, y_train)\n",
        "svm_y_pred = svm_clf.predict(X_test)\n",
        "svm_report = classification_report(y_test, svm_y_pred)\n",
        "print(svm_report)"
      ],
      "metadata": {
        "colab": {
          "base_uri": "https://localhost:8080/"
        },
        "id": "ubHCkBsUDtLC",
        "outputId": "ed40b69d-72b5-486e-a750-857bcc88b923"
      },
      "execution_count": 75,
      "outputs": [
        {
          "output_type": "stream",
          "name": "stdout",
          "text": [
            "              precision    recall  f1-score   support\n",
            "\n",
            "           0       0.46      1.00      0.63       224\n",
            "           1       0.00      0.00      0.00        48\n",
            "           2       0.00      0.00      0.00        41\n",
            "           3       0.00      0.00      0.00        81\n",
            "           4       0.00      0.00      0.00        94\n",
            "\n",
            "    accuracy                           0.46       488\n",
            "   macro avg       0.09      0.20      0.13       488\n",
            "weighted avg       0.21      0.46      0.29       488\n",
            "\n"
          ]
        },
        {
          "output_type": "stream",
          "name": "stderr",
          "text": [
            "/usr/local/lib/python3.10/dist-packages/sklearn/metrics/_classification.py:1344: UndefinedMetricWarning: Precision and F-score are ill-defined and being set to 0.0 in labels with no predicted samples. Use `zero_division` parameter to control this behavior.\n",
            "  _warn_prf(average, modifier, msg_start, len(result))\n",
            "/usr/local/lib/python3.10/dist-packages/sklearn/metrics/_classification.py:1344: UndefinedMetricWarning: Precision and F-score are ill-defined and being set to 0.0 in labels with no predicted samples. Use `zero_division` parameter to control this behavior.\n",
            "  _warn_prf(average, modifier, msg_start, len(result))\n",
            "/usr/local/lib/python3.10/dist-packages/sklearn/metrics/_classification.py:1344: UndefinedMetricWarning: Precision and F-score are ill-defined and being set to 0.0 in labels with no predicted samples. Use `zero_division` parameter to control this behavior.\n",
            "  _warn_prf(average, modifier, msg_start, len(result))\n"
          ]
        }
      ]
    },
    {
      "cell_type": "code",
      "source": [
        "print(accuracy_score(y_test, svm_y_pred))"
      ],
      "metadata": {
        "colab": {
          "base_uri": "https://localhost:8080/"
        },
        "id": "ys_eIbYhD8Oc",
        "outputId": "367410a3-e9b4-4dbf-d9d9-0b0a8e541ca1"
      },
      "execution_count": 77,
      "outputs": [
        {
          "output_type": "stream",
          "name": "stdout",
          "text": [
            "0.45901639344262296\n"
          ]
        }
      ]
    },
    {
      "cell_type": "code",
      "source": [
        "cm = confusion_matrix(y_test, svm_y_pred, labels=svm_clf.classes_)\n",
        "disp = ConfusionMatrixDisplay(confusion_matrix=cm,\n",
        "                              display_labels=svm_clf.classes_)\n",
        "disp.plot()"
      ],
      "metadata": {
        "colab": {
          "base_uri": "https://localhost:8080/",
          "height": 467
        },
        "id": "WoKKoKBBD_pM",
        "outputId": "fd0b6878-d01c-471a-9252-dc517df7d944"
      },
      "execution_count": 78,
      "outputs": [
        {
          "output_type": "execute_result",
          "data": {
            "text/plain": [
              "<sklearn.metrics._plot.confusion_matrix.ConfusionMatrixDisplay at 0x7fb61c90fb80>"
            ]
          },
          "metadata": {},
          "execution_count": 78
        },
        {
          "output_type": "display_data",
          "data": {
            "text/plain": [
              "<Figure size 640x480 with 2 Axes>"
            ],
            "image/png": "[encoded data removed]"
          },
          "metadata": {}
        }
      ]
    },
    {
      "cell_type": "markdown",
      "source": [
        "### 6.2.7 Classification usin K-Nearest Neighbors"
      ],
      "metadata": {
        "id": "KyYd0DY-Jtlv"
      }
    },
    {
      "cell_type": "code",
      "source": [
        "from sklearn.neighbors import KNeighborsClassifier\n",
        "knn_clf = KNeighborsClassifier()\n",
        "knn_clf.fit(X_train, y_train)\n",
        "knn_y_pred = knn_clf.predict(X_test)\n",
        "knn_report = classification_report(y_test, knn_y_pred)\n",
        "print(knn_report)"
      ],
      "metadata": {
        "colab": {
          "base_uri": "https://localhost:8080/"
        },
        "id": "vqhYZZ-bFgy1",
        "outputId": "038a4ee1-b8ec-443f-f6d6-15c8eafb1bed"
      },
      "execution_count": 87,
      "outputs": [
        {
          "output_type": "stream",
          "name": "stdout",
          "text": [
            "              precision    recall  f1-score   support\n",
            "\n",
            "           0       0.46      0.78      0.58       224\n",
            "           1       0.05      0.02      0.03        48\n",
            "           2       0.17      0.05      0.08        41\n",
            "           3       0.08      0.04      0.05        81\n",
            "           4       0.13      0.05      0.08        94\n",
            "\n",
            "    accuracy                           0.38       488\n",
            "   macro avg       0.18      0.19      0.16       488\n",
            "weighted avg       0.27      0.38      0.30       488\n",
            "\n"
          ]
        }
      ]
    },
    {
      "cell_type": "code",
      "source": [
        "print(accuracy_score(y_test, knn_y_pred))"
      ],
      "metadata": {
        "colab": {
          "base_uri": "https://localhost:8080/"
        },
        "id": "NAXC_8FjFpwl",
        "outputId": "230eb5e8-107a-43ee-b016-985e609cbc91"
      },
      "execution_count": 88,
      "outputs": [
        {
          "output_type": "stream",
          "name": "stdout",
          "text": [
            "0.3790983606557377\n"
          ]
        }
      ]
    },
    {
      "cell_type": "code",
      "source": [
        "cm = confusion_matrix(y_test, knn_y_pred, labels=knn_clf.classes_)\n",
        "disp = ConfusionMatrixDisplay(confusion_matrix=cm,\n",
        "                              display_labels=knn_clf.classes_)\n",
        "disp.plot()"
      ],
      "metadata": {
        "colab": {
          "base_uri": "https://localhost:8080/",
          "height": 467
        },
        "id": "cIpHxMgqFvFV",
        "outputId": "e068a049-3c71-4b69-f9df-9c1f37d1ecae"
      },
      "execution_count": 89,
      "outputs": [
        {
          "output_type": "execute_result",
          "data": {
            "text/plain": [
              "<sklearn.metrics._plot.confusion_matrix.ConfusionMatrixDisplay at 0x7fb61e600880>"
            ]
          },
          "metadata": {},
          "execution_count": 89
        },
        {
          "output_type": "display_data",
          "data": {
            "text/plain": [
              "<Figure size 640x480 with 2 Axes>"
            ],
            "image/png": "[encoded data removed]"
          },
          "metadata": {}
        }
      ]
    },
    {
      "cell_type": "markdown",
      "source": [
        "### 6.2.8 Classification usin Gradient Boosting"
      ],
      "metadata": {
        "id": "KDcX1QQwJ09w"
      }
    },
    {
      "cell_type": "code",
      "source": [
        "from sklearn.ensemble import GradientBoostingClassifier\n",
        "gb_clf = GradientBoostingClassifier()\n",
        "gb_clf.fit(X_train, y_train)\n",
        "gb_y_pred = gb_clf.predict(X_test)\n",
        "gb_report = classification_report(y_test, gb_y_pred)\n",
        "print(gb_report)"
      ],
      "metadata": {
        "colab": {
          "base_uri": "https://localhost:8080/"
        },
        "id": "yXINcqujGP0n",
        "outputId": "f47163d0-71e7-48ef-95a7-62f1b676c0cc"
      },
      "execution_count": 100,
      "outputs": [
        {
          "output_type": "stream",
          "name": "stdout",
          "text": [
            "              precision    recall  f1-score   support\n",
            "\n",
            "           0       0.45      0.84      0.58       224\n",
            "           1       0.28      0.10      0.15        48\n",
            "           2       0.15      0.05      0.07        41\n",
            "           3       0.17      0.04      0.06        81\n",
            "           4       0.06      0.01      0.02        94\n",
            "\n",
            "    accuracy                           0.41       488\n",
            "   macro avg       0.22      0.21      0.18       488\n",
            "weighted avg       0.29      0.41      0.30       488\n",
            "\n"
          ]
        }
      ]
    },
    {
      "cell_type": "code",
      "source": [
        "print(accuracy_score(y_test, gb_y_pred))"
      ],
      "metadata": {
        "colab": {
          "base_uri": "https://localhost:8080/"
        },
        "id": "uNCxEk7OGk3j",
        "outputId": "06f5c50d-62d6-4866-ed00-c0c9f5d17564"
      },
      "execution_count": 101,
      "outputs": [
        {
          "output_type": "stream",
          "name": "stdout",
          "text": [
            "0.4098360655737705\n"
          ]
        }
      ]
    },
    {
      "cell_type": "code",
      "source": [
        "cm = confusion_matrix(y_test, gb_y_pred, labels=gb_clf.classes_)\n",
        "disp = ConfusionMatrixDisplay(confusion_matrix=cm,\n",
        "                              display_labels=gb_clf.classes_)\n",
        "disp.plot()"
      ],
      "metadata": {
        "colab": {
          "base_uri": "https://localhost:8080/",
          "height": 467
        },
        "id": "l6GNv6PwGpKM",
        "outputId": "461dcb32-90bd-49f7-8549-ee8a11fd9011"
      },
      "execution_count": 102,
      "outputs": [
        {
          "output_type": "execute_result",
          "data": {
            "text/plain": [
              "<sklearn.metrics._plot.confusion_matrix.ConfusionMatrixDisplay at 0x7fb61c13e200>"
            ]
          },
          "metadata": {},
          "execution_count": 102
        },
        {
          "output_type": "display_data",
          "data": {
            "text/plain": [
              "<Figure size 640x480 with 2 Axes>"
            ],
            "image/png": "[encoded data removed]"
          },
          "metadata": {}
        }
      ]
    }
  ]
}